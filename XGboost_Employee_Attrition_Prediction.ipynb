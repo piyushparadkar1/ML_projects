{
  "metadata": {
    "kernelspec": {
      "display_name": "Python 3",
      "language": "python",
      "name": "python3"
    },
    "language_info": {
      "name": "python",
      "version": "3.6.6",
      "mimetype": "text/x-python",
      "codemirror_mode": {
        "name": "ipython",
        "version": 3
      },
      "pygments_lexer": "ipython3",
      "nbconvert_exporter": "python",
      "file_extension": ".py"
    },
    "colab": {
      "provenance": []
    },
    "accelerator": "GPU",
    "gpuClass": "standard"
  },
  "nbformat_minor": 0,
  "nbformat": 4,
  "cells": [
    {
      "cell_type": "markdown",
      "source": [
        "\n",
        "### Mini Project Notebook: Employee Attrition Prediction"
      ],
      "metadata": {
        "id": "hTplQkOMsKhd"
      }
    },
    {
      "cell_type": "markdown",
      "source": [
        "## **Note:** in-house Kaggle competition"
      ],
      "metadata": {
        "id": "WAJK03OtjDAB"
      }
    },
    {
      "cell_type": "markdown",
      "source": [
        "## Problem Statement"
      ],
      "metadata": {
        "id": "w9wsH4KikGdd"
      }
    },
    {
      "cell_type": "markdown",
      "source": [
        "To predict employee attrition using CatBoost and XgBoost "
      ],
      "metadata": {
        "id": "Bmh48BKlkIlm"
      }
    },
    {
      "cell_type": "markdown",
      "source": [
        "## Learning Objectives"
      ],
      "metadata": {
        "id": "8N0iS4ipU_XM"
      }
    },
    {
      "cell_type": "markdown",
      "source": [
        "At the end of the experiment, you will be able to\n",
        "\n",
        "* explore the employee attrition dataset\n",
        "* apply CatBoost and XgBoost on the dataset\n",
        "* tune the model hyperparameters to improve accuracy\n",
        "* evaluate the model using suitable metrics\n"
      ],
      "metadata": {
        "id": "K8OXq65pVDDS"
      }
    },
    {
      "cell_type": "markdown",
      "source": [
        "## Introduction\n",
        "\n",
        "Employee attrition is the gradual reduction in employee numbers. Employee attrition happens when the size of your workforce diminishes over time. This means that employees are leaving faster than they are hired. Employee attrition happens when employees retire, resign, or simply aren't replaced.\n",
        "Although employee attrition can be company-wide, it may also be confined to specific parts of a business.\n",
        "\n",
        "Employee attrition can happen for several reasons. These include unhappiness about employee benefits or the pay structure, a lack of employee development opportunities, and even poor conditions in the workplace.\n",
        "\n",
        "To know more about the factors that lead to employee attrition, refer [here](https://www.betterup.com/blog/employee-attrition#:~:text=Employee%20attrition%20is%20the%20gradual,or%20simply%20aren't%20replaced).\n"
      ],
      "metadata": {
        "id": "GYxPNsZuYcGk"
      }
    },
    {
      "cell_type": "markdown",
      "source": [
        "**Gradient Boosted Decision Trees**\n",
        "\n",
        "* Gradient boosted decision trees (GBDTs) are one of the most important machine learning models. \n",
        "\n",
        "* GBDTs originate from AdaBoost, an algorithm that ensembles weak learners and uses the majority vote, weighted by their individual accuracy, to solve binary classification problems. The weak learners in this case are decision trees with a single split, called decision stumps. \n",
        "\n",
        "* Some of the widely used gradient boosted decision trees are XgBoost, CatBoost and LightGBM. "
      ],
      "metadata": {
        "id": "dsJP8R-j7tO8"
      }
    },
    {
      "cell_type": "markdown",
      "source": [
        "## Dataset\n",
        "\n",
        "The dataset used for this mini-project is [HR Employee Attrition dataset](https://data.world/aaizemberg/hr-employee-attrition). This dataset is synthetically created by IBM data scientists. There are 35 features and 1470 records. \n",
        "\n",
        "There are numerical features such as:\n",
        "\n",
        "* Age\n",
        "* DistanceFromHome\n",
        "* EmployeeNumber\n",
        "* PerformanceRating\n",
        "\n",
        "There are several categorical features such as:\n",
        "* JobRole\n",
        "* EducationField\n",
        "* Department\n",
        "* BusinessTravel\n",
        "\n",
        "Dependent or target feature is 'attrition' which has values as Yes/No."
      ],
      "metadata": {
        "id": "YC0AF58YH-cn"
      }
    },
    {
      "cell_type": "code",
      "metadata": {
        "id": "812a816f",
        "outputId": "8d1f7d66-755e-48d7-fe5c-524371a6655b",
        "colab": {
          "base_uri": "https://localhost:8080/"
        }
      },
      "source": [
        "#@title Download the data\n",
        "!wget -qq https://cdn.iisc.talentsprint.com/CDS/MiniProjects/hr_employee_attrition_train.csv\n",
        "print(\"Data Downloaded Successfuly!!\")"
      ],
      "execution_count": 1,
      "outputs": [
        {
          "output_type": "stream",
          "name": "stdout",
          "text": [
            "Data Downloaded Successfuly!!\n"
          ]
        }
      ]
    },
    {
      "cell_type": "markdown",
      "source": [
        "### Install CatBoost"
      ],
      "metadata": {
        "id": "1BJzstlcLh4k"
      }
    },
    {
      "cell_type": "code",
      "source": [
        "!pip -qq install catboost"
      ],
      "metadata": {
        "id": "BYeUGMBZeqtL"
      },
      "execution_count": null,
      "outputs": []
    },
    {
      "cell_type": "markdown",
      "source": [
        "### Import Required Packages"
      ],
      "metadata": {
        "id": "1TmXyc2bRFvM"
      }
    },
    {
      "cell_type": "code",
      "source": [
        "import numpy as np\n",
        "import pandas as pd\n",
        "import seaborn as sns\n",
        "from matplotlib import pyplot as plt\n",
        "from sklearn.metrics import roc_auc_score, accuracy_score, confusion_matrix, f1_score\n",
        "from sklearn.model_selection import train_test_split\n",
        "from lightgbm import LGBMClassifier\n",
        "from xgboost import XGBClassifier\n",
        "from catboost import CatBoostClassifier, metrics\n",
        "import warnings\n",
        "from sklearn.model_selection import RandomizedSearchCV, GridSearchCV\n",
        "\n",
        "warnings.filterwarnings(\"ignore\")\n",
        "plt.style.use('fivethirtyeight') \n",
        "pd.set_option('display.max_columns', 100)\n",
        "%matplotlib inline"
      ],
      "metadata": {
        "_uuid": "3f4d5f2c0b147e47776e71922cadb41524cb151b",
        "trusted": true,
        "id": "v50DDzl0CEVk"
      },
      "execution_count": null,
      "outputs": []
    },
    {
      "cell_type": "markdown",
      "source": [
        "## Load the Dataset"
      ],
      "metadata": {
        "id": "0E7JUtgDYBDL"
      }
    },
    {
      "cell_type": "markdown",
      "source": [
        "**Exercise 1: Read the dataset [0.5 Mark]**\n",
        "\n",
        "**Hint:** pd.read_csv()"
      ],
      "metadata": {
        "id": "xhB7KfG7lAi6"
      }
    },
    {
      "cell_type": "code",
      "source": [
        "# read the dataset\n",
        "# YOUR CODE HERE\n",
        "df = pd.read_csv('/content/hr_employee_attrition_train.csv')"
      ],
      "metadata": {
        "id": "82VkFRBVSbG7"
      },
      "execution_count": null,
      "outputs": []
    },
    {
      "cell_type": "code",
      "source": [
        "# Check the shape of dataframe. \n",
        "# YOUR CODE HERE\n",
        "df.shape"
      ],
      "metadata": {
        "id": "L6QL6HbTZLjw",
        "colab": {
          "base_uri": "https://localhost:8080/"
        },
        "outputId": "39bab1b0-c574-4251-aabf-c4ad17839e84"
      },
      "execution_count": null,
      "outputs": [
        {
          "output_type": "execute_result",
          "data": {
            "text/plain": [
              "(1170, 35)"
            ]
          },
          "metadata": {},
          "execution_count": 303
        }
      ]
    },
    {
      "cell_type": "markdown",
      "source": [
        "There can be more than one file to read as this is introduced as a competition, dataset has one file for training the model. Their can be other files as one containing the test features and the other can be the true labels."
      ],
      "metadata": {
        "id": "BHxgkAr_4grD"
      }
    },
    {
      "cell_type": "markdown",
      "source": [
        "## Data Exploration\n",
        "\n",
        "- Check for missing values\n",
        "- Check for consistent data type across a feature\n",
        "- Check for outliers or inconsistencies in data columns\n",
        "- Check for correlated features\n",
        "- Do we have a target label imbalance\n",
        "- How our independent variables are distributed relative to our target label\n",
        "- Are there features that have strong linear or monotonic relationships? Making correlation heatmaps makes it easy to identify possible collinearity"
      ],
      "metadata": {
        "_uuid": "07244b5b58d56fb4ac89efc5541074263a150ce5",
        "id": "5JgkRXxYCEVn"
      }
    },
    {
      "cell_type": "markdown",
      "source": [
        "**Exercise 2: Create a `List` of numerical and categorical columns. Display a statistical description of the dataset. Remove missing values (if any) [0.5 Mark]**"
      ],
      "metadata": {
        "id": "WNypN2YmlpwG"
      }
    },
    {
      "cell_type": "markdown",
      "source": [
        "**Hint:** Use `for` to iterate through each column."
      ],
      "metadata": {
        "id": "GuQKmcv0qLWo"
      }
    },
    {
      "cell_type": "code",
      "source": [
        "# YOUR CODE HERE\n",
        "df.info()"
      ],
      "metadata": {
        "id": "rOHYyNvXRwHz",
        "colab": {
          "base_uri": "https://localhost:8080/"
        },
        "outputId": "c389ea08-6ab4-4905-be5c-f1a42f6b29f3"
      },
      "execution_count": null,
      "outputs": [
        {
          "output_type": "stream",
          "name": "stdout",
          "text": [
            "<class 'pandas.core.frame.DataFrame'>\n",
            "RangeIndex: 1170 entries, 0 to 1169\n",
            "Data columns (total 35 columns):\n",
            " #   Column                    Non-Null Count  Dtype \n",
            "---  ------                    --------------  ----- \n",
            " 0   age                       1170 non-null   int64 \n",
            " 1   businesstravel            1170 non-null   object\n",
            " 2   dailyrate                 1170 non-null   int64 \n",
            " 3   department                1170 non-null   object\n",
            " 4   distancefromhome          1170 non-null   int64 \n",
            " 5   education                 1170 non-null   int64 \n",
            " 6   educationfield            1170 non-null   object\n",
            " 7   employeecount             1170 non-null   int64 \n",
            " 8   employeenumber            1170 non-null   int64 \n",
            " 9   environmentsatisfaction   1170 non-null   int64 \n",
            " 10  gender                    1170 non-null   object\n",
            " 11  hourlyrate                1170 non-null   int64 \n",
            " 12  jobinvolvement            1170 non-null   int64 \n",
            " 13  joblevel                  1170 non-null   int64 \n",
            " 14  jobrole                   1170 non-null   object\n",
            " 15  jobsatisfaction           1170 non-null   int64 \n",
            " 16  maritalstatus             1170 non-null   object\n",
            " 17  monthlyincome             1170 non-null   int64 \n",
            " 18  monthlyrate               1170 non-null   int64 \n",
            " 19  numcompaniesworked        1170 non-null   int64 \n",
            " 20  over18                    1170 non-null   object\n",
            " 21  overtime                  1170 non-null   object\n",
            " 22  percentsalaryhike         1170 non-null   int64 \n",
            " 23  performancerating         1170 non-null   int64 \n",
            " 24  relationshipsatisfaction  1170 non-null   int64 \n",
            " 25  standardhours             1170 non-null   int64 \n",
            " 26  stockoptionlevel          1170 non-null   int64 \n",
            " 27  totalworkingyears         1170 non-null   int64 \n",
            " 28  trainingtimeslastyear     1170 non-null   int64 \n",
            " 29  worklifebalance           1170 non-null   int64 \n",
            " 30  yearsatcompany            1170 non-null   int64 \n",
            " 31  yearsincurrentrole        1170 non-null   int64 \n",
            " 32  yearssincelastpromotion   1170 non-null   int64 \n",
            " 33  yearswithcurrmanager      1170 non-null   int64 \n",
            " 34  attrition                 1170 non-null   object\n",
            "dtypes: int64(26), object(9)\n",
            "memory usage: 320.0+ KB\n"
          ]
        }
      ]
    },
    {
      "cell_type": "code",
      "source": [
        "df.head()"
      ],
      "metadata": {
        "colab": {
          "base_uri": "https://localhost:8080/",
          "height": 357
        },
        "id": "XBrEJm2j6FN7",
        "outputId": "240de834-cfe6-45cd-ef0f-3e772797a8d0"
      },
      "execution_count": null,
      "outputs": [
        {
          "output_type": "execute_result",
          "data": {
            "text/plain": [
              "   age businesstravel  dailyrate              department  distancefromhome  \\\n",
              "0   45  Travel_Rarely        556  Research & Development                25   \n",
              "1   34  Travel_Rarely        970  Research & Development                 8   \n",
              "2   39  Travel_Rarely        360  Research & Development                23   \n",
              "3   26  Travel_Rarely        933                   Sales                 1   \n",
              "4   40  Travel_Rarely        329  Research & Development                 1   \n",
              "\n",
              "   education educationfield  employeecount  employeenumber  \\\n",
              "0          2  Life Sciences              1            1888   \n",
              "1          2        Medical              1             757   \n",
              "2          3        Medical              1            1310   \n",
              "3          3  Life Sciences              1             476   \n",
              "4          4  Life Sciences              1            1361   \n",
              "\n",
              "   environmentsatisfaction  gender  hourlyrate  jobinvolvement  joblevel  \\\n",
              "0                        2  Female          93               2         2   \n",
              "1                        2  Female          96               3         2   \n",
              "2                        3    Male          93               3         1   \n",
              "3                        3    Male          57               3         2   \n",
              "4                        2    Male          88               3         1   \n",
              "\n",
              "                     jobrole  jobsatisfaction maritalstatus  monthlyincome  \\\n",
              "0     Manufacturing Director                4       Married           5906   \n",
              "1  Healthcare Representative                3        Single           6142   \n",
              "2         Research Scientist                1        Single           3904   \n",
              "3            Sales Executive                3       Married           5296   \n",
              "4      Laboratory Technician                2       Married           2387   \n",
              "\n",
              "   monthlyrate  numcompaniesworked over18 overtime  percentsalaryhike  \\\n",
              "0        23888                   0      Y       No                 13   \n",
              "1         7360                   3      Y       No                 11   \n",
              "2        22154                   0      Y       No                 13   \n",
              "3        20156                   1      Y       No                 17   \n",
              "4         6762                   3      Y       No                 22   \n",
              "\n",
              "   performancerating  relationshipsatisfaction  standardhours  \\\n",
              "0                  3                         4             80   \n",
              "1                  3                         4             80   \n",
              "2                  3                         1             80   \n",
              "3                  3                         2             80   \n",
              "4                  4                         3             80   \n",
              "\n",
              "   stockoptionlevel  totalworkingyears  trainingtimeslastyear  \\\n",
              "0                 2                 10                      2   \n",
              "1                 0                 10                      2   \n",
              "2                 0                  6                      2   \n",
              "3                 1                  8                      3   \n",
              "4                 1                  7                      3   \n",
              "\n",
              "   worklifebalance  yearsatcompany  yearsincurrentrole  \\\n",
              "0                2               9                   8   \n",
              "1                3               5                   1   \n",
              "2                3               5                   2   \n",
              "3                3               8                   7   \n",
              "4                3               4                   2   \n",
              "\n",
              "   yearssincelastpromotion  yearswithcurrmanager attrition  \n",
              "0                        3                     8        No  \n",
              "1                        4                     3        No  \n",
              "2                        0                     3       Yes  \n",
              "3                        7                     7        No  \n",
              "4                        0                     3        No  "
            ],
            "text/html": [
              "\n",
              "  <div id=\"df-a58cb0d1-b525-471a-a501-73c92686263a\">\n",
              "    <div class=\"colab-df-container\">\n",
              "      <div>\n",
              "<style scoped>\n",
              "    .dataframe tbody tr th:only-of-type {\n",
              "        vertical-align: middle;\n",
              "    }\n",
              "\n",
              "    .dataframe tbody tr th {\n",
              "        vertical-align: top;\n",
              "    }\n",
              "\n",
              "    .dataframe thead th {\n",
              "        text-align: right;\n",
              "    }\n",
              "</style>\n",
              "<table border=\"1\" class=\"dataframe\">\n",
              "  <thead>\n",
              "    <tr style=\"text-align: right;\">\n",
              "      <th></th>\n",
              "      <th>age</th>\n",
              "      <th>businesstravel</th>\n",
              "      <th>dailyrate</th>\n",
              "      <th>department</th>\n",
              "      <th>distancefromhome</th>\n",
              "      <th>education</th>\n",
              "      <th>educationfield</th>\n",
              "      <th>employeecount</th>\n",
              "      <th>employeenumber</th>\n",
              "      <th>environmentsatisfaction</th>\n",
              "      <th>gender</th>\n",
              "      <th>hourlyrate</th>\n",
              "      <th>jobinvolvement</th>\n",
              "      <th>joblevel</th>\n",
              "      <th>jobrole</th>\n",
              "      <th>jobsatisfaction</th>\n",
              "      <th>maritalstatus</th>\n",
              "      <th>monthlyincome</th>\n",
              "      <th>monthlyrate</th>\n",
              "      <th>numcompaniesworked</th>\n",
              "      <th>over18</th>\n",
              "      <th>overtime</th>\n",
              "      <th>percentsalaryhike</th>\n",
              "      <th>performancerating</th>\n",
              "      <th>relationshipsatisfaction</th>\n",
              "      <th>standardhours</th>\n",
              "      <th>stockoptionlevel</th>\n",
              "      <th>totalworkingyears</th>\n",
              "      <th>trainingtimeslastyear</th>\n",
              "      <th>worklifebalance</th>\n",
              "      <th>yearsatcompany</th>\n",
              "      <th>yearsincurrentrole</th>\n",
              "      <th>yearssincelastpromotion</th>\n",
              "      <th>yearswithcurrmanager</th>\n",
              "      <th>attrition</th>\n",
              "    </tr>\n",
              "  </thead>\n",
              "  <tbody>\n",
              "    <tr>\n",
              "      <th>0</th>\n",
              "      <td>45</td>\n",
              "      <td>Travel_Rarely</td>\n",
              "      <td>556</td>\n",
              "      <td>Research &amp; Development</td>\n",
              "      <td>25</td>\n",
              "      <td>2</td>\n",
              "      <td>Life Sciences</td>\n",
              "      <td>1</td>\n",
              "      <td>1888</td>\n",
              "      <td>2</td>\n",
              "      <td>Female</td>\n",
              "      <td>93</td>\n",
              "      <td>2</td>\n",
              "      <td>2</td>\n",
              "      <td>Manufacturing Director</td>\n",
              "      <td>4</td>\n",
              "      <td>Married</td>\n",
              "      <td>5906</td>\n",
              "      <td>23888</td>\n",
              "      <td>0</td>\n",
              "      <td>Y</td>\n",
              "      <td>No</td>\n",
              "      <td>13</td>\n",
              "      <td>3</td>\n",
              "      <td>4</td>\n",
              "      <td>80</td>\n",
              "      <td>2</td>\n",
              "      <td>10</td>\n",
              "      <td>2</td>\n",
              "      <td>2</td>\n",
              "      <td>9</td>\n",
              "      <td>8</td>\n",
              "      <td>3</td>\n",
              "      <td>8</td>\n",
              "      <td>No</td>\n",
              "    </tr>\n",
              "    <tr>\n",
              "      <th>1</th>\n",
              "      <td>34</td>\n",
              "      <td>Travel_Rarely</td>\n",
              "      <td>970</td>\n",
              "      <td>Research &amp; Development</td>\n",
              "      <td>8</td>\n",
              "      <td>2</td>\n",
              "      <td>Medical</td>\n",
              "      <td>1</td>\n",
              "      <td>757</td>\n",
              "      <td>2</td>\n",
              "      <td>Female</td>\n",
              "      <td>96</td>\n",
              "      <td>3</td>\n",
              "      <td>2</td>\n",
              "      <td>Healthcare Representative</td>\n",
              "      <td>3</td>\n",
              "      <td>Single</td>\n",
              "      <td>6142</td>\n",
              "      <td>7360</td>\n",
              "      <td>3</td>\n",
              "      <td>Y</td>\n",
              "      <td>No</td>\n",
              "      <td>11</td>\n",
              "      <td>3</td>\n",
              "      <td>4</td>\n",
              "      <td>80</td>\n",
              "      <td>0</td>\n",
              "      <td>10</td>\n",
              "      <td>2</td>\n",
              "      <td>3</td>\n",
              "      <td>5</td>\n",
              "      <td>1</td>\n",
              "      <td>4</td>\n",
              "      <td>3</td>\n",
              "      <td>No</td>\n",
              "    </tr>\n",
              "    <tr>\n",
              "      <th>2</th>\n",
              "      <td>39</td>\n",
              "      <td>Travel_Rarely</td>\n",
              "      <td>360</td>\n",
              "      <td>Research &amp; Development</td>\n",
              "      <td>23</td>\n",
              "      <td>3</td>\n",
              "      <td>Medical</td>\n",
              "      <td>1</td>\n",
              "      <td>1310</td>\n",
              "      <td>3</td>\n",
              "      <td>Male</td>\n",
              "      <td>93</td>\n",
              "      <td>3</td>\n",
              "      <td>1</td>\n",
              "      <td>Research Scientist</td>\n",
              "      <td>1</td>\n",
              "      <td>Single</td>\n",
              "      <td>3904</td>\n",
              "      <td>22154</td>\n",
              "      <td>0</td>\n",
              "      <td>Y</td>\n",
              "      <td>No</td>\n",
              "      <td>13</td>\n",
              "      <td>3</td>\n",
              "      <td>1</td>\n",
              "      <td>80</td>\n",
              "      <td>0</td>\n",
              "      <td>6</td>\n",
              "      <td>2</td>\n",
              "      <td>3</td>\n",
              "      <td>5</td>\n",
              "      <td>2</td>\n",
              "      <td>0</td>\n",
              "      <td>3</td>\n",
              "      <td>Yes</td>\n",
              "    </tr>\n",
              "    <tr>\n",
              "      <th>3</th>\n",
              "      <td>26</td>\n",
              "      <td>Travel_Rarely</td>\n",
              "      <td>933</td>\n",
              "      <td>Sales</td>\n",
              "      <td>1</td>\n",
              "      <td>3</td>\n",
              "      <td>Life Sciences</td>\n",
              "      <td>1</td>\n",
              "      <td>476</td>\n",
              "      <td>3</td>\n",
              "      <td>Male</td>\n",
              "      <td>57</td>\n",
              "      <td>3</td>\n",
              "      <td>2</td>\n",
              "      <td>Sales Executive</td>\n",
              "      <td>3</td>\n",
              "      <td>Married</td>\n",
              "      <td>5296</td>\n",
              "      <td>20156</td>\n",
              "      <td>1</td>\n",
              "      <td>Y</td>\n",
              "      <td>No</td>\n",
              "      <td>17</td>\n",
              "      <td>3</td>\n",
              "      <td>2</td>\n",
              "      <td>80</td>\n",
              "      <td>1</td>\n",
              "      <td>8</td>\n",
              "      <td>3</td>\n",
              "      <td>3</td>\n",
              "      <td>8</td>\n",
              "      <td>7</td>\n",
              "      <td>7</td>\n",
              "      <td>7</td>\n",
              "      <td>No</td>\n",
              "    </tr>\n",
              "    <tr>\n",
              "      <th>4</th>\n",
              "      <td>40</td>\n",
              "      <td>Travel_Rarely</td>\n",
              "      <td>329</td>\n",
              "      <td>Research &amp; Development</td>\n",
              "      <td>1</td>\n",
              "      <td>4</td>\n",
              "      <td>Life Sciences</td>\n",
              "      <td>1</td>\n",
              "      <td>1361</td>\n",
              "      <td>2</td>\n",
              "      <td>Male</td>\n",
              "      <td>88</td>\n",
              "      <td>3</td>\n",
              "      <td>1</td>\n",
              "      <td>Laboratory Technician</td>\n",
              "      <td>2</td>\n",
              "      <td>Married</td>\n",
              "      <td>2387</td>\n",
              "      <td>6762</td>\n",
              "      <td>3</td>\n",
              "      <td>Y</td>\n",
              "      <td>No</td>\n",
              "      <td>22</td>\n",
              "      <td>4</td>\n",
              "      <td>3</td>\n",
              "      <td>80</td>\n",
              "      <td>1</td>\n",
              "      <td>7</td>\n",
              "      <td>3</td>\n",
              "      <td>3</td>\n",
              "      <td>4</td>\n",
              "      <td>2</td>\n",
              "      <td>0</td>\n",
              "      <td>3</td>\n",
              "      <td>No</td>\n",
              "    </tr>\n",
              "  </tbody>\n",
              "</table>\n",
              "</div>\n",
              "      <button class=\"colab-df-convert\" onclick=\"convertToInteractive('df-a58cb0d1-b525-471a-a501-73c92686263a')\"\n",
              "              title=\"Convert this dataframe to an interactive table.\"\n",
              "              style=\"display:none;\">\n",
              "        \n",
              "  <svg xmlns=\"http://www.w3.org/2000/svg\" height=\"24px\"viewBox=\"0 0 24 24\"\n",
              "       width=\"24px\">\n",
              "    <path d=\"M0 0h24v24H0V0z\" fill=\"none\"/>\n",
              "    <path d=\"M18.56 5.44l.94 2.06.94-2.06 2.06-.94-2.06-.94-.94-2.06-.94 2.06-2.06.94zm-11 1L8.5 8.5l.94-2.06 2.06-.94-2.06-.94L8.5 2.5l-.94 2.06-2.06.94zm10 10l.94 2.06.94-2.06 2.06-.94-2.06-.94-.94-2.06-.94 2.06-2.06.94z\"/><path d=\"M17.41 7.96l-1.37-1.37c-.4-.4-.92-.59-1.43-.59-.52 0-1.04.2-1.43.59L10.3 9.45l-7.72 7.72c-.78.78-.78 2.05 0 2.83L4 21.41c.39.39.9.59 1.41.59.51 0 1.02-.2 1.41-.59l7.78-7.78 2.81-2.81c.8-.78.8-2.07 0-2.86zM5.41 20L4 18.59l7.72-7.72 1.47 1.35L5.41 20z\"/>\n",
              "  </svg>\n",
              "      </button>\n",
              "      \n",
              "  <style>\n",
              "    .colab-df-container {\n",
              "      display:flex;\n",
              "      flex-wrap:wrap;\n",
              "      gap: 12px;\n",
              "    }\n",
              "\n",
              "    .colab-df-convert {\n",
              "      background-color: #E8F0FE;\n",
              "      border: none;\n",
              "      border-radius: 50%;\n",
              "      cursor: pointer;\n",
              "      display: none;\n",
              "      fill: #1967D2;\n",
              "      height: 32px;\n",
              "      padding: 0 0 0 0;\n",
              "      width: 32px;\n",
              "    }\n",
              "\n",
              "    .colab-df-convert:hover {\n",
              "      background-color: #E2EBFA;\n",
              "      box-shadow: 0px 1px 2px rgba(60, 64, 67, 0.3), 0px 1px 3px 1px rgba(60, 64, 67, 0.15);\n",
              "      fill: #174EA6;\n",
              "    }\n",
              "\n",
              "    [theme=dark] .colab-df-convert {\n",
              "      background-color: #3B4455;\n",
              "      fill: #D2E3FC;\n",
              "    }\n",
              "\n",
              "    [theme=dark] .colab-df-convert:hover {\n",
              "      background-color: #434B5C;\n",
              "      box-shadow: 0px 1px 3px 1px rgba(0, 0, 0, 0.15);\n",
              "      filter: drop-shadow(0px 1px 2px rgba(0, 0, 0, 0.3));\n",
              "      fill: #FFFFFF;\n",
              "    }\n",
              "  </style>\n",
              "\n",
              "      <script>\n",
              "        const buttonEl =\n",
              "          document.querySelector('#df-a58cb0d1-b525-471a-a501-73c92686263a button.colab-df-convert');\n",
              "        buttonEl.style.display =\n",
              "          google.colab.kernel.accessAllowed ? 'block' : 'none';\n",
              "\n",
              "        async function convertToInteractive(key) {\n",
              "          const element = document.querySelector('#df-a58cb0d1-b525-471a-a501-73c92686263a');\n",
              "          const dataTable =\n",
              "            await google.colab.kernel.invokeFunction('convertToInteractive',\n",
              "                                                     [key], {});\n",
              "          if (!dataTable) return;\n",
              "\n",
              "          const docLinkHtml = 'Like what you see? Visit the ' +\n",
              "            '<a target=\"_blank\" href=https://colab.research.google.com/notebooks/data_table.ipynb>data table notebook</a>'\n",
              "            + ' to learn more about interactive tables.';\n",
              "          element.innerHTML = '';\n",
              "          dataTable['output_type'] = 'display_data';\n",
              "          await google.colab.output.renderOutput(dataTable, element);\n",
              "          const docLink = document.createElement('div');\n",
              "          docLink.innerHTML = docLinkHtml;\n",
              "          element.appendChild(docLink);\n",
              "        }\n",
              "      </script>\n",
              "    </div>\n",
              "  </div>\n",
              "  "
            ]
          },
          "metadata": {},
          "execution_count": 305
        }
      ]
    },
    {
      "cell_type": "code",
      "source": [
        "cat_col,num_col = [],[]\n",
        "for column in df.columns: \n",
        "    if df[column].dtype == 'object':\n",
        "        cat_col.append(column)\n",
        "    else:\n",
        "        num_col.append(column)\n",
        "print(cat_col)\n",
        "print(num_col)\n",
        "    "
      ],
      "metadata": {
        "colab": {
          "base_uri": "https://localhost:8080/"
        },
        "id": "RdWN13zE6OE3",
        "outputId": "59e6a999-43a2-4a4f-bed2-168cf0f63c45"
      },
      "execution_count": null,
      "outputs": [
        {
          "output_type": "stream",
          "name": "stdout",
          "text": [
            "['businesstravel', 'department', 'educationfield', 'gender', 'jobrole', 'maritalstatus', 'over18', 'overtime', 'attrition']\n",
            "['age', 'dailyrate', 'distancefromhome', 'education', 'employeecount', 'employeenumber', 'environmentsatisfaction', 'hourlyrate', 'jobinvolvement', 'joblevel', 'jobsatisfaction', 'monthlyincome', 'monthlyrate', 'numcompaniesworked', 'percentsalaryhike', 'performancerating', 'relationshipsatisfaction', 'standardhours', 'stockoptionlevel', 'totalworkingyears', 'trainingtimeslastyear', 'worklifebalance', 'yearsatcompany', 'yearsincurrentrole', 'yearssincelastpromotion', 'yearswithcurrmanager']\n"
          ]
        }
      ]
    },
    {
      "cell_type": "code",
      "source": [
        "df.isna().any()"
      ],
      "metadata": {
        "colab": {
          "base_uri": "https://localhost:8080/"
        },
        "id": "xAW5D5qQ_ws-",
        "outputId": "4a8237f1-a0fa-4aff-f419-7a8ba9ff5a69"
      },
      "execution_count": null,
      "outputs": [
        {
          "output_type": "execute_result",
          "data": {
            "text/plain": [
              "age                         False\n",
              "businesstravel              False\n",
              "dailyrate                   False\n",
              "department                  False\n",
              "distancefromhome            False\n",
              "education                   False\n",
              "educationfield              False\n",
              "employeecount               False\n",
              "employeenumber              False\n",
              "environmentsatisfaction     False\n",
              "gender                      False\n",
              "hourlyrate                  False\n",
              "jobinvolvement              False\n",
              "joblevel                    False\n",
              "jobrole                     False\n",
              "jobsatisfaction             False\n",
              "maritalstatus               False\n",
              "monthlyincome               False\n",
              "monthlyrate                 False\n",
              "numcompaniesworked          False\n",
              "over18                      False\n",
              "overtime                    False\n",
              "percentsalaryhike           False\n",
              "performancerating           False\n",
              "relationshipsatisfaction    False\n",
              "standardhours               False\n",
              "stockoptionlevel            False\n",
              "totalworkingyears           False\n",
              "trainingtimeslastyear       False\n",
              "worklifebalance             False\n",
              "yearsatcompany              False\n",
              "yearsincurrentrole          False\n",
              "yearssincelastpromotion     False\n",
              "yearswithcurrmanager        False\n",
              "attrition                   False\n",
              "dtype: bool"
            ]
          },
          "metadata": {},
          "execution_count": 307
        }
      ]
    },
    {
      "cell_type": "markdown",
      "source": [
        "First, we want to get a sense of our data:\n",
        "- What features have the most divergent distributions based on target class\n",
        "- Do we have a target label imbalance\n",
        "- How our independent variables are distributed relative to our target label\n",
        "- Are there features that have strong linear or monotonic relationships, making correlation heatmaps makes it easy to identify possible colinearity"
      ],
      "metadata": {
        "id": "-5LDX4tYR6Vs"
      }
    },
    {
      "cell_type": "markdown",
      "source": [
        "### Check for outliers"
      ],
      "metadata": {
        "id": "T5mUbdCMKBP8"
      }
    },
    {
      "cell_type": "markdown",
      "source": [
        "** Create a box plot to check for outliers**"
      ],
      "metadata": {
        "id": "cYTnAs5UqlVn"
      }
    },
    {
      "cell_type": "code",
      "source": [
        "# Check for outliers\n",
        "# YOUR CODE HERE\n",
        "#a1=df[['kCH4_sync','week_days']]\n",
        "df.boxplot(meanline=True, showmeans=True, showcaps=True, showbox=True,            \n",
        "                 showfliers=False)\n",
        "plt.xticks(rotation=90)\n",
        "plt.show()"
      ],
      "metadata": {
        "id": "OYTxh7gtFqyC",
        "colab": {
          "base_uri": "https://localhost:8080/",
          "height": 374
        },
        "outputId": "bab1b3a2-b466-418d-bea1-9d7d01bcb338"
      },
      "execution_count": null,
      "outputs": [
        {
          "output_type": "display_data",
          "data": {
            "text/plain": [
              "<Figure size 432x288 with 1 Axes>"
            ],
            "image/png": "[encoded data removed]"
          },
          "metadata": {
            "needs_background": "light"
          }
        }
      ]
    },
    {
      "cell_type": "markdown",
      "source": [
        "### Handling outliers"
      ],
      "metadata": {
        "id": "42cBMGHQQOWP"
      }
    },
    {
      "cell_type": "markdown",
      "source": [
        "**Exercise 4: Use lower bound as 25% and upper bound as 75% to handle the outliers [0.5 Mark]**"
      ],
      "metadata": {
        "id": "ei63U2m7qyGA"
      }
    },
    {
      "cell_type": "code",
      "source": [
        "df.shape"
      ],
      "metadata": {
        "colab": {
          "base_uri": "https://localhost:8080/"
        },
        "id": "efXCd08XXVZg",
        "outputId": "e9aed647-22b2-4a0d-e2bf-e26dc4af90b5"
      },
      "execution_count": null,
      "outputs": [
        {
          "output_type": "execute_result",
          "data": {
            "text/plain": [
              "(1170, 35)"
            ]
          },
          "metadata": {},
          "execution_count": 309
        }
      ]
    },
    {
      "cell_type": "code",
      "source": [
        "sns.boxplot(df['monthlyincome'])"
      ],
      "metadata": {
        "colab": {
          "base_uri": "https://localhost:8080/",
          "height": 297
        },
        "id": "FWv9qvV8X_6n",
        "outputId": "237153c8-b108-45d2-d767-b20058c2f6d4"
      },
      "execution_count": null,
      "outputs": [
        {
          "output_type": "execute_result",
          "data": {
            "text/plain": [
              "<matplotlib.axes._subplots.AxesSubplot at 0x7f2fd2a85250>"
            ]
          },
          "metadata": {},
          "execution_count": 310
        },
        {
          "output_type": "display_data",
          "data": {
            "text/plain": [
              "<Figure size 432x288 with 1 Axes>"
            ],
            "image/png": "[encoded data removed]"
          },
          "metadata": {
            "needs_background": "light"
          }
        }
      ]
    },
    {
      "cell_type": "code",
      "source": [
        "# YOUR CODE HERE\n",
        "# Q1 = df.quantile(0.25)\n",
        "# Q3 = df.quantile(0.75)\n",
        "# IQR = Q3 - Q1\n",
        "# df = df[~((df < (Q1 - 1.5 * IQR)) |(df > (Q3 + 1.5 * IQR))).any(axis=1)]\n"
      ],
      "metadata": {
        "id": "oT3yOFPoH0SH"
      },
      "execution_count": null,
      "outputs": []
    },
    {
      "cell_type": "code",
      "source": [
        "df.shape"
      ],
      "metadata": {
        "colab": {
          "base_uri": "https://localhost:8080/"
        },
        "id": "tMjOXDrBTacV",
        "outputId": "1a80e035-1e84-4a04-ac99-b0952cc11e9e"
      },
      "execution_count": null,
      "outputs": [
        {
          "output_type": "execute_result",
          "data": {
            "text/plain": [
              "(1170, 35)"
            ]
          },
          "metadata": {},
          "execution_count": 311
        }
      ]
    },
    {
      "cell_type": "code",
      "source": [
        "# Recheck for outliers\n",
        "# YOUR CODE HERE\n",
        "sns.boxplot(df['monthlyincome'])"
      ],
      "metadata": {
        "id": "QvrMPhTtJTYP",
        "colab": {
          "base_uri": "https://localhost:8080/",
          "height": 297
        },
        "outputId": "dbdd1abd-f04d-4e25-d4b4-947e6c51e54c"
      },
      "execution_count": null,
      "outputs": [
        {
          "output_type": "execute_result",
          "data": {
            "text/plain": [
              "<matplotlib.axes._subplots.AxesSubplot at 0x7f2fd3ffad10>"
            ]
          },
          "metadata": {},
          "execution_count": 217
        },
        {
          "output_type": "display_data",
          "data": {
            "text/plain": [
              "<Figure size 432x288 with 1 Axes>"
            ],
            "image/png": "[encoded data removed]"
          },
          "metadata": {
            "needs_background": "light"
          }
        }
      ]
    },
    {
      "cell_type": "code",
      "source": [
        "#df.winsorize(df,.25,.75) # a scipy module \n"
      ],
      "metadata": {
        "id": "Tk0Hw-W4YZcN"
      },
      "execution_count": null,
      "outputs": []
    },
    {
      "cell_type": "markdown",
      "source": [
        "### Target label imbalance"
      ],
      "metadata": {
        "id": "_ha6PPo2iCAM"
      }
    },
    {
      "cell_type": "markdown",
      "source": [
        "**Exercise 5: Check if there is an imbalance in target label [0.5 Mark]**"
      ],
      "metadata": {
        "id": "ryNwfdldrR0j"
      }
    },
    {
      "cell_type": "markdown",
      "source": [
        "**Hint:** Use value_counts()"
      ],
      "metadata": {
        "id": "j17VKVdnrb3R"
      }
    },
    {
      "cell_type": "code",
      "source": [
        "# Count of unique values in Attrition column\n",
        "# YOUR CODE HERE\n",
        "df['attrition'].value_counts()"
      ],
      "metadata": {
        "id": "y1gsAjfLbi2Z",
        "colab": {
          "base_uri": "https://localhost:8080/"
        },
        "outputId": "0dfa0fde-67c5-4624-aeb6-02b3ac4960e7"
      },
      "execution_count": null,
      "outputs": [
        {
          "output_type": "execute_result",
          "data": {
            "text/plain": [
              "No     981\n",
              "Yes    189\n",
              "Name: attrition, dtype: int64"
            ]
          },
          "metadata": {},
          "execution_count": 312
        }
      ]
    },
    {
      "cell_type": "code",
      "source": [
        "# Plot barplot to visualize balance/imbalance\n",
        "# YOUR CODE HEREs\n",
        "sns.countplot(df['attrition'])"
      ],
      "metadata": {
        "id": "g-8bU9moco7l",
        "colab": {
          "base_uri": "https://localhost:8080/",
          "height": 297
        },
        "outputId": "889caa2f-44ee-4ff7-8122-5629777988de"
      },
      "execution_count": null,
      "outputs": [
        {
          "output_type": "execute_result",
          "data": {
            "text/plain": [
              "<matplotlib.axes._subplots.AxesSubplot at 0x7f2fd2a78310>"
            ]
          },
          "metadata": {},
          "execution_count": 313
        },
        {
          "output_type": "display_data",
          "data": {
            "text/plain": [
              "<Figure size 432x288 with 1 Axes>"
            ],
            "image/png": "[encoded data removed]"
          },
          "metadata": {
            "needs_background": "light"
          }
        }
      ]
    },
    {
      "cell_type": "markdown",
      "source": [
        "If there is any imbalance in the dataset then a few techniques can be utilised (optional):\n",
        "1. SMOTE\n",
        "2. Cross Validation\n",
        "3. Regularizing the model's parameters"
      ],
      "metadata": {
        "id": "0N7tqroWP9iQ"
      }
    },
    {
      "cell_type": "markdown",
      "source": [
        "###Plot pairplot"
      ],
      "metadata": {
        "id": "79pQoaQ3iOG7"
      }
    },
    {
      "cell_type": "markdown",
      "source": [
        "**Exercise 6: Visualize the relationships between the predictor variables and the target variable using a pairplot [0.5 Mark]**"
      ],
      "metadata": {
        "id": "3Hfry_Fwr5nQ"
      }
    },
    {
      "cell_type": "markdown",
      "source": [
        "**Hint:** Use sns.pairplot"
      ],
      "metadata": {
        "id": "aTBi6PLqsDbk"
      }
    },
    {
      "cell_type": "code",
      "source": [
        "# Visualize a pairplot with relevant features\n",
        "# YOUR CODE HERE\n",
        "\n",
        "\n",
        "sns.pairplot(df,y_vars = ['attrition'])"
      ],
      "metadata": {
        "_uuid": "a7355f1c5bf552fca19d132df33d7994516873f6",
        "trusted": true,
        "id": "OO9RJlfrCEVp",
        "colab": {
          "base_uri": "https://localhost:8080/",
          "height": 70
        },
        "outputId": "a8548ffb-3483-465e-f860-53bc6411dcef"
      },
      "execution_count": null,
      "outputs": [
        {
          "output_type": "execute_result",
          "data": {
            "text/plain": [
              "<seaborn.axisgrid.PairGrid at 0x7f2fd3c75e90>"
            ]
          },
          "metadata": {},
          "execution_count": 220
        },
        {
          "output_type": "display_data",
          "data": {
            "text/plain": [
              "<Figure size 4680x180 with 26 Axes>"
            ],
            "image/png": "[encoded data removed]"
          },
          "metadata": {
            "needs_background": "light"
          }
        }
      ]
    },
    {
      "cell_type": "markdown",
      "source": [
        "### Explore Correlation\n",
        "\n",
        "- Plotting the Heatmap"
      ],
      "metadata": {
        "id": "UVKpOQqPuyew"
      }
    },
    {
      "cell_type": "markdown",
      "source": [
        "**Exercise 7: Visualize the correlation among IBM employee attrition numerical features using a heatmap [0.5 Mark]**"
      ],
      "metadata": {
        "id": "aIMCrjr1sNJc"
      }
    },
    {
      "cell_type": "code",
      "source": [
        "# Visualize heatmap\n",
        "# YOUR CODE HERE\n",
        "plt.figure(figsize=(20, 10))\n",
        "sns.heatmap(abs(df[num_col].corr()), annot=True, linewidth=0.5, center=0)\n",
        "plt.show()"
      ],
      "metadata": {
        "id": "RC7eIV-P8rbX",
        "colab": {
          "base_uri": "https://localhost:8080/",
          "height": 505
        },
        "outputId": "1a8c2925-e12d-4974-ed9a-dd3257b09e85"
      },
      "execution_count": null,
      "outputs": [
        {
          "output_type": "display_data",
          "data": {
            "text/plain": [
              "<Figure size 1440x720 with 2 Axes>"
            ],
            "image/png": "[encoded data removed]"
          },
          "metadata": {
            "needs_background": "light"
          }
        }
      ]
    },
    {
      "cell_type": "markdown",
      "source": [
        "Comment on the observations made with the pairplot and heatmap"
      ],
      "metadata": {
        "id": "_FrUYzZWawAl"
      }
    },
    {
      "cell_type": "markdown",
      "source": [
        "### Preparing the test feature space\n",
        "* Remove outliers if any\n",
        "* Handle the categorical feature if required\n",
        "* Other processing steps can also be followed."
      ],
      "metadata": {
        "id": "oT9AhvtTQnKV"
      }
    },
    {
      "cell_type": "code",
      "source": [
        "# YOUR CODE HERE\n",
        "df[cat_col]"
      ],
      "metadata": {
        "id": "vfhan6UWQ8EX",
        "colab": {
          "base_uri": "https://localhost:8080/",
          "height": 644
        },
        "outputId": "2546dfed-64dc-4c30-c905-ac779e8285b2"
      },
      "execution_count": null,
      "outputs": [
        {
          "output_type": "execute_result",
          "data": {
            "text/plain": [
              "         businesstravel              department    educationfield  gender  \\\n",
              "0         Travel_Rarely  Research & Development     Life Sciences  Female   \n",
              "1         Travel_Rarely  Research & Development           Medical  Female   \n",
              "2         Travel_Rarely  Research & Development           Medical    Male   \n",
              "3         Travel_Rarely                   Sales     Life Sciences    Male   \n",
              "4         Travel_Rarely  Research & Development     Life Sciences    Male   \n",
              "...                 ...                     ...               ...     ...   \n",
              "1165         Non-Travel  Research & Development  Technical Degree    Male   \n",
              "1166      Travel_Rarely                   Sales           Medical  Female   \n",
              "1167  Travel_Frequently  Research & Development  Technical Degree    Male   \n",
              "1168         Non-Travel                   Sales     Life Sciences    Male   \n",
              "1169      Travel_Rarely  Research & Development           Medical  Female   \n",
              "\n",
              "                        jobrole maritalstatus over18 overtime attrition  \n",
              "0        Manufacturing Director       Married      Y       No        No  \n",
              "1     Healthcare Representative        Single      Y       No        No  \n",
              "2            Research Scientist        Single      Y       No       Yes  \n",
              "3               Sales Executive       Married      Y       No        No  \n",
              "4         Laboratory Technician       Married      Y       No        No  \n",
              "...                         ...           ...    ...      ...       ...  \n",
              "1165         Research Scientist       Married      Y       No        No  \n",
              "1166                    Manager       Married      Y       No        No  \n",
              "1167         Research Scientist       Married      Y       No        No  \n",
              "1168            Sales Executive        Single      Y       No        No  \n",
              "1169         Research Scientist       Married      Y      Yes        No  \n",
              "\n",
              "[1170 rows x 9 columns]"
            ],
            "text/html": [
              "\n",
              "  <div id=\"df-8a4ddbf2-b5b6-44a1-a91c-7c9977062791\">\n",
              "    <div class=\"colab-df-container\">\n",
              "      <div>\n",
              "<style scoped>\n",
              "    .dataframe tbody tr th:only-of-type {\n",
              "        vertical-align: middle;\n",
              "    }\n",
              "\n",
              "    .dataframe tbody tr th {\n",
              "        vertical-align: top;\n",
              "    }\n",
              "\n",
              "    .dataframe thead th {\n",
              "        text-align: right;\n",
              "    }\n",
              "</style>\n",
              "<table border=\"1\" class=\"dataframe\">\n",
              "  <thead>\n",
              "    <tr style=\"text-align: right;\">\n",
              "      <th></th>\n",
              "      <th>businesstravel</th>\n",
              "      <th>department</th>\n",
              "      <th>educationfield</th>\n",
              "      <th>gender</th>\n",
              "      <th>jobrole</th>\n",
              "      <th>maritalstatus</th>\n",
              "      <th>over18</th>\n",
              "      <th>overtime</th>\n",
              "      <th>attrition</th>\n",
              "    </tr>\n",
              "  </thead>\n",
              "  <tbody>\n",
              "    <tr>\n",
              "      <th>0</th>\n",
              "      <td>Travel_Rarely</td>\n",
              "      <td>Research &amp; Development</td>\n",
              "      <td>Life Sciences</td>\n",
              "      <td>Female</td>\n",
              "      <td>Manufacturing Director</td>\n",
              "      <td>Married</td>\n",
              "      <td>Y</td>\n",
              "      <td>No</td>\n",
              "      <td>No</td>\n",
              "    </tr>\n",
              "    <tr>\n",
              "      <th>1</th>\n",
              "      <td>Travel_Rarely</td>\n",
              "      <td>Research &amp; Development</td>\n",
              "      <td>Medical</td>\n",
              "      <td>Female</td>\n",
              "      <td>Healthcare Representative</td>\n",
              "      <td>Single</td>\n",
              "      <td>Y</td>\n",
              "      <td>No</td>\n",
              "      <td>No</td>\n",
              "    </tr>\n",
              "    <tr>\n",
              "      <th>2</th>\n",
              "      <td>Travel_Rarely</td>\n",
              "      <td>Research &amp; Development</td>\n",
              "      <td>Medical</td>\n",
              "      <td>Male</td>\n",
              "      <td>Research Scientist</td>\n",
              "      <td>Single</td>\n",
              "      <td>Y</td>\n",
              "      <td>No</td>\n",
              "      <td>Yes</td>\n",
              "    </tr>\n",
              "    <tr>\n",
              "      <th>3</th>\n",
              "      <td>Travel_Rarely</td>\n",
              "      <td>Sales</td>\n",
              "      <td>Life Sciences</td>\n",
              "      <td>Male</td>\n",
              "      <td>Sales Executive</td>\n",
              "      <td>Married</td>\n",
              "      <td>Y</td>\n",
              "      <td>No</td>\n",
              "      <td>No</td>\n",
              "    </tr>\n",
              "    <tr>\n",
              "      <th>4</th>\n",
              "      <td>Travel_Rarely</td>\n",
              "      <td>Research &amp; Development</td>\n",
              "      <td>Life Sciences</td>\n",
              "      <td>Male</td>\n",
              "      <td>Laboratory Technician</td>\n",
              "      <td>Married</td>\n",
              "      <td>Y</td>\n",
              "      <td>No</td>\n",
              "      <td>No</td>\n",
              "    </tr>\n",
              "    <tr>\n",
              "      <th>...</th>\n",
              "      <td>...</td>\n",
              "      <td>...</td>\n",
              "      <td>...</td>\n",
              "      <td>...</td>\n",
              "      <td>...</td>\n",
              "      <td>...</td>\n",
              "      <td>...</td>\n",
              "      <td>...</td>\n",
              "      <td>...</td>\n",
              "    </tr>\n",
              "    <tr>\n",
              "      <th>1165</th>\n",
              "      <td>Non-Travel</td>\n",
              "      <td>Research &amp; Development</td>\n",
              "      <td>Technical Degree</td>\n",
              "      <td>Male</td>\n",
              "      <td>Research Scientist</td>\n",
              "      <td>Married</td>\n",
              "      <td>Y</td>\n",
              "      <td>No</td>\n",
              "      <td>No</td>\n",
              "    </tr>\n",
              "    <tr>\n",
              "      <th>1166</th>\n",
              "      <td>Travel_Rarely</td>\n",
              "      <td>Sales</td>\n",
              "      <td>Medical</td>\n",
              "      <td>Female</td>\n",
              "      <td>Manager</td>\n",
              "      <td>Married</td>\n",
              "      <td>Y</td>\n",
              "      <td>No</td>\n",
              "      <td>No</td>\n",
              "    </tr>\n",
              "    <tr>\n",
              "      <th>1167</th>\n",
              "      <td>Travel_Frequently</td>\n",
              "      <td>Research &amp; Development</td>\n",
              "      <td>Technical Degree</td>\n",
              "      <td>Male</td>\n",
              "      <td>Research Scientist</td>\n",
              "      <td>Married</td>\n",
              "      <td>Y</td>\n",
              "      <td>No</td>\n",
              "      <td>No</td>\n",
              "    </tr>\n",
              "    <tr>\n",
              "      <th>1168</th>\n",
              "      <td>Non-Travel</td>\n",
              "      <td>Sales</td>\n",
              "      <td>Life Sciences</td>\n",
              "      <td>Male</td>\n",
              "      <td>Sales Executive</td>\n",
              "      <td>Single</td>\n",
              "      <td>Y</td>\n",
              "      <td>No</td>\n",
              "      <td>No</td>\n",
              "    </tr>\n",
              "    <tr>\n",
              "      <th>1169</th>\n",
              "      <td>Travel_Rarely</td>\n",
              "      <td>Research &amp; Development</td>\n",
              "      <td>Medical</td>\n",
              "      <td>Female</td>\n",
              "      <td>Research Scientist</td>\n",
              "      <td>Married</td>\n",
              "      <td>Y</td>\n",
              "      <td>Yes</td>\n",
              "      <td>No</td>\n",
              "    </tr>\n",
              "  </tbody>\n",
              "</table>\n",
              "<p>1170 rows × 9 columns</p>\n",
              "</div>\n",
              "      <button class=\"colab-df-convert\" onclick=\"convertToInteractive('df-8a4ddbf2-b5b6-44a1-a91c-7c9977062791')\"\n",
              "              title=\"Convert this dataframe to an interactive table.\"\n",
              "              style=\"display:none;\">\n",
              "        \n",
              "  <svg xmlns=\"http://www.w3.org/2000/svg\" height=\"24px\"viewBox=\"0 0 24 24\"\n",
              "       width=\"24px\">\n",
              "    <path d=\"M0 0h24v24H0V0z\" fill=\"none\"/>\n",
              "    <path d=\"M18.56 5.44l.94 2.06.94-2.06 2.06-.94-2.06-.94-.94-2.06-.94 2.06-2.06.94zm-11 1L8.5 8.5l.94-2.06 2.06-.94-2.06-.94L8.5 2.5l-.94 2.06-2.06.94zm10 10l.94 2.06.94-2.06 2.06-.94-2.06-.94-.94-2.06-.94 2.06-2.06.94z\"/><path d=\"M17.41 7.96l-1.37-1.37c-.4-.4-.92-.59-1.43-.59-.52 0-1.04.2-1.43.59L10.3 9.45l-7.72 7.72c-.78.78-.78 2.05 0 2.83L4 21.41c.39.39.9.59 1.41.59.51 0 1.02-.2 1.41-.59l7.78-7.78 2.81-2.81c.8-.78.8-2.07 0-2.86zM5.41 20L4 18.59l7.72-7.72 1.47 1.35L5.41 20z\"/>\n",
              "  </svg>\n",
              "      </button>\n",
              "      \n",
              "  <style>\n",
              "    .colab-df-container {\n",
              "      display:flex;\n",
              "      flex-wrap:wrap;\n",
              "      gap: 12px;\n",
              "    }\n",
              "\n",
              "    .colab-df-convert {\n",
              "      background-color: #E8F0FE;\n",
              "      border: none;\n",
              "      border-radius: 50%;\n",
              "      cursor: pointer;\n",
              "      display: none;\n",
              "      fill: #1967D2;\n",
              "      height: 32px;\n",
              "      padding: 0 0 0 0;\n",
              "      width: 32px;\n",
              "    }\n",
              "\n",
              "    .colab-df-convert:hover {\n",
              "      background-color: #E2EBFA;\n",
              "      box-shadow: 0px 1px 2px rgba(60, 64, 67, 0.3), 0px 1px 3px 1px rgba(60, 64, 67, 0.15);\n",
              "      fill: #174EA6;\n",
              "    }\n",
              "\n",
              "    [theme=dark] .colab-df-convert {\n",
              "      background-color: #3B4455;\n",
              "      fill: #D2E3FC;\n",
              "    }\n",
              "\n",
              "    [theme=dark] .colab-df-convert:hover {\n",
              "      background-color: #434B5C;\n",
              "      box-shadow: 0px 1px 3px 1px rgba(0, 0, 0, 0.15);\n",
              "      filter: drop-shadow(0px 1px 2px rgba(0, 0, 0, 0.3));\n",
              "      fill: #FFFFFF;\n",
              "    }\n",
              "  </style>\n",
              "\n",
              "      <script>\n",
              "        const buttonEl =\n",
              "          document.querySelector('#df-8a4ddbf2-b5b6-44a1-a91c-7c9977062791 button.colab-df-convert');\n",
              "        buttonEl.style.display =\n",
              "          google.colab.kernel.accessAllowed ? 'block' : 'none';\n",
              "\n",
              "        async function convertToInteractive(key) {\n",
              "          const element = document.querySelector('#df-8a4ddbf2-b5b6-44a1-a91c-7c9977062791');\n",
              "          const dataTable =\n",
              "            await google.colab.kernel.invokeFunction('convertToInteractive',\n",
              "                                                     [key], {});\n",
              "          if (!dataTable) return;\n",
              "\n",
              "          const docLinkHtml = 'Like what you see? Visit the ' +\n",
              "            '<a target=\"_blank\" href=https://colab.research.google.com/notebooks/data_table.ipynb>data table notebook</a>'\n",
              "            + ' to learn more about interactive tables.';\n",
              "          element.innerHTML = '';\n",
              "          dataTable['output_type'] = 'display_data';\n",
              "          await google.colab.output.renderOutput(dataTable, element);\n",
              "          const docLink = document.createElement('div');\n",
              "          docLink.innerHTML = docLinkHtml;\n",
              "          element.appendChild(docLink);\n",
              "        }\n",
              "      </script>\n",
              "    </div>\n",
              "  </div>\n",
              "  "
            ]
          },
          "metadata": {},
          "execution_count": 315
        }
      ]
    },
    {
      "cell_type": "code",
      "source": [
        "for column in cat_col:\n",
        "    print(df[column].unique())\n"
      ],
      "metadata": {
        "colab": {
          "base_uri": "https://localhost:8080/"
        },
        "id": "aIFMGjUKhlKk",
        "outputId": "2db393df-174f-4030-f47a-8d0d9f0aae47"
      },
      "execution_count": null,
      "outputs": [
        {
          "output_type": "stream",
          "name": "stdout",
          "text": [
            "['Travel_Rarely' 'Travel_Frequently' 'Non-Travel']\n",
            "['Research & Development' 'Sales' 'Human Resources']\n",
            "['Life Sciences' 'Medical' 'Technical Degree' 'Other' 'Marketing'\n",
            " 'Human Resources']\n",
            "['Female' 'Male']\n",
            "['Manufacturing Director' 'Healthcare Representative' 'Research Scientist'\n",
            " 'Sales Representative' 'Sales Executive' 'Laboratory Technician'\n",
            " 'Human Resources' 'Manager' 'Research Director']\n",
            "['Married' 'Single' 'Divorced']\n",
            "['Y']\n",
            "['No' 'Yes']\n",
            "['No' 'Yes']\n"
          ]
        }
      ]
    },
    {
      "cell_type": "code",
      "source": [
        "# from sklearn.pipeline import Pipeline\n",
        "# from sklearn.preprocessing import StandardScaler, OneHotEncoder\n",
        "# from sklearn.impute import SimpleImputer\n",
        "# from sklearn.compose import ColumnTransformer\n",
        "\n",
        "# # num_pipeline = Pipeline([\n",
        "# #     ('std_scaler', StandardScaler()),\n",
        "# #     ])\n",
        "\n",
        "# full_pipeline = ColumnTransformer([\n",
        "#     (\"cat\", OneHotEncoder(), cat_col),\n",
        "# ])\n",
        "\n",
        "\n",
        "# df2 = full_pipeline.fit_transform(df)"
      ],
      "metadata": {
        "id": "tVSW-YxLjZYO"
      },
      "execution_count": null,
      "outputs": []
    },
    {
      "cell_type": "code",
      "source": [
        "df.head()"
      ],
      "metadata": {
        "colab": {
          "base_uri": "https://localhost:8080/",
          "height": 357
        },
        "id": "JdAKJ1ZnnqaC",
        "outputId": "330b22f0-ec8e-4d96-ad04-f9f489623bdb"
      },
      "execution_count": null,
      "outputs": [
        {
          "output_type": "execute_result",
          "data": {
            "text/plain": [
              "   age businesstravel  dailyrate              department  distancefromhome  \\\n",
              "0   45  Travel_Rarely        556  Research & Development                25   \n",
              "1   34  Travel_Rarely        970  Research & Development                 8   \n",
              "2   39  Travel_Rarely        360  Research & Development                23   \n",
              "3   26  Travel_Rarely        933                   Sales                 1   \n",
              "4   40  Travel_Rarely        329  Research & Development                 1   \n",
              "\n",
              "   education educationfield  employeecount  employeenumber  \\\n",
              "0          2  Life Sciences              1            1888   \n",
              "1          2        Medical              1             757   \n",
              "2          3        Medical              1            1310   \n",
              "3          3  Life Sciences              1             476   \n",
              "4          4  Life Sciences              1            1361   \n",
              "\n",
              "   environmentsatisfaction  gender  hourlyrate  jobinvolvement  joblevel  \\\n",
              "0                        2  Female          93               2         2   \n",
              "1                        2  Female          96               3         2   \n",
              "2                        3    Male          93               3         1   \n",
              "3                        3    Male          57               3         2   \n",
              "4                        2    Male          88               3         1   \n",
              "\n",
              "                     jobrole  jobsatisfaction maritalstatus  monthlyincome  \\\n",
              "0     Manufacturing Director                4       Married           5906   \n",
              "1  Healthcare Representative                3        Single           6142   \n",
              "2         Research Scientist                1        Single           3904   \n",
              "3            Sales Executive                3       Married           5296   \n",
              "4      Laboratory Technician                2       Married           2387   \n",
              "\n",
              "   monthlyrate  numcompaniesworked over18 overtime  percentsalaryhike  \\\n",
              "0        23888                   0      Y       No                 13   \n",
              "1         7360                   3      Y       No                 11   \n",
              "2        22154                   0      Y       No                 13   \n",
              "3        20156                   1      Y       No                 17   \n",
              "4         6762                   3      Y       No                 22   \n",
              "\n",
              "   performancerating  relationshipsatisfaction  standardhours  \\\n",
              "0                  3                         4             80   \n",
              "1                  3                         4             80   \n",
              "2                  3                         1             80   \n",
              "3                  3                         2             80   \n",
              "4                  4                         3             80   \n",
              "\n",
              "   stockoptionlevel  totalworkingyears  trainingtimeslastyear  \\\n",
              "0                 2                 10                      2   \n",
              "1                 0                 10                      2   \n",
              "2                 0                  6                      2   \n",
              "3                 1                  8                      3   \n",
              "4                 1                  7                      3   \n",
              "\n",
              "   worklifebalance  yearsatcompany  yearsincurrentrole  \\\n",
              "0                2               9                   8   \n",
              "1                3               5                   1   \n",
              "2                3               5                   2   \n",
              "3                3               8                   7   \n",
              "4                3               4                   2   \n",
              "\n",
              "   yearssincelastpromotion  yearswithcurrmanager attrition  \n",
              "0                        3                     8        No  \n",
              "1                        4                     3        No  \n",
              "2                        0                     3       Yes  \n",
              "3                        7                     7        No  \n",
              "4                        0                     3        No  "
            ],
            "text/html": [
              "\n",
              "  <div id=\"df-0e77d158-a47a-4a84-affc-a7bc9d23d49f\">\n",
              "    <div class=\"colab-df-container\">\n",
              "      <div>\n",
              "<style scoped>\n",
              "    .dataframe tbody tr th:only-of-type {\n",
              "        vertical-align: middle;\n",
              "    }\n",
              "\n",
              "    .dataframe tbody tr th {\n",
              "        vertical-align: top;\n",
              "    }\n",
              "\n",
              "    .dataframe thead th {\n",
              "        text-align: right;\n",
              "    }\n",
              "</style>\n",
              "<table border=\"1\" class=\"dataframe\">\n",
              "  <thead>\n",
              "    <tr style=\"text-align: right;\">\n",
              "      <th></th>\n",
              "      <th>age</th>\n",
              "      <th>businesstravel</th>\n",
              "      <th>dailyrate</th>\n",
              "      <th>department</th>\n",
              "      <th>distancefromhome</th>\n",
              "      <th>education</th>\n",
              "      <th>educationfield</th>\n",
              "      <th>employeecount</th>\n",
              "      <th>employeenumber</th>\n",
              "      <th>environmentsatisfaction</th>\n",
              "      <th>gender</th>\n",
              "      <th>hourlyrate</th>\n",
              "      <th>jobinvolvement</th>\n",
              "      <th>joblevel</th>\n",
              "      <th>jobrole</th>\n",
              "      <th>jobsatisfaction</th>\n",
              "      <th>maritalstatus</th>\n",
              "      <th>monthlyincome</th>\n",
              "      <th>monthlyrate</th>\n",
              "      <th>numcompaniesworked</th>\n",
              "      <th>over18</th>\n",
              "      <th>overtime</th>\n",
              "      <th>percentsalaryhike</th>\n",
              "      <th>performancerating</th>\n",
              "      <th>relationshipsatisfaction</th>\n",
              "      <th>standardhours</th>\n",
              "      <th>stockoptionlevel</th>\n",
              "      <th>totalworkingyears</th>\n",
              "      <th>trainingtimeslastyear</th>\n",
              "      <th>worklifebalance</th>\n",
              "      <th>yearsatcompany</th>\n",
              "      <th>yearsincurrentrole</th>\n",
              "      <th>yearssincelastpromotion</th>\n",
              "      <th>yearswithcurrmanager</th>\n",
              "      <th>attrition</th>\n",
              "    </tr>\n",
              "  </thead>\n",
              "  <tbody>\n",
              "    <tr>\n",
              "      <th>0</th>\n",
              "      <td>45</td>\n",
              "      <td>Travel_Rarely</td>\n",
              "      <td>556</td>\n",
              "      <td>Research &amp; Development</td>\n",
              "      <td>25</td>\n",
              "      <td>2</td>\n",
              "      <td>Life Sciences</td>\n",
              "      <td>1</td>\n",
              "      <td>1888</td>\n",
              "      <td>2</td>\n",
              "      <td>Female</td>\n",
              "      <td>93</td>\n",
              "      <td>2</td>\n",
              "      <td>2</td>\n",
              "      <td>Manufacturing Director</td>\n",
              "      <td>4</td>\n",
              "      <td>Married</td>\n",
              "      <td>5906</td>\n",
              "      <td>23888</td>\n",
              "      <td>0</td>\n",
              "      <td>Y</td>\n",
              "      <td>No</td>\n",
              "      <td>13</td>\n",
              "      <td>3</td>\n",
              "      <td>4</td>\n",
              "      <td>80</td>\n",
              "      <td>2</td>\n",
              "      <td>10</td>\n",
              "      <td>2</td>\n",
              "      <td>2</td>\n",
              "      <td>9</td>\n",
              "      <td>8</td>\n",
              "      <td>3</td>\n",
              "      <td>8</td>\n",
              "      <td>No</td>\n",
              "    </tr>\n",
              "    <tr>\n",
              "      <th>1</th>\n",
              "      <td>34</td>\n",
              "      <td>Travel_Rarely</td>\n",
              "      <td>970</td>\n",
              "      <td>Research &amp; Development</td>\n",
              "      <td>8</td>\n",
              "      <td>2</td>\n",
              "      <td>Medical</td>\n",
              "      <td>1</td>\n",
              "      <td>757</td>\n",
              "      <td>2</td>\n",
              "      <td>Female</td>\n",
              "      <td>96</td>\n",
              "      <td>3</td>\n",
              "      <td>2</td>\n",
              "      <td>Healthcare Representative</td>\n",
              "      <td>3</td>\n",
              "      <td>Single</td>\n",
              "      <td>6142</td>\n",
              "      <td>7360</td>\n",
              "      <td>3</td>\n",
              "      <td>Y</td>\n",
              "      <td>No</td>\n",
              "      <td>11</td>\n",
              "      <td>3</td>\n",
              "      <td>4</td>\n",
              "      <td>80</td>\n",
              "      <td>0</td>\n",
              "      <td>10</td>\n",
              "      <td>2</td>\n",
              "      <td>3</td>\n",
              "      <td>5</td>\n",
              "      <td>1</td>\n",
              "      <td>4</td>\n",
              "      <td>3</td>\n",
              "      <td>No</td>\n",
              "    </tr>\n",
              "    <tr>\n",
              "      <th>2</th>\n",
              "      <td>39</td>\n",
              "      <td>Travel_Rarely</td>\n",
              "      <td>360</td>\n",
              "      <td>Research &amp; Development</td>\n",
              "      <td>23</td>\n",
              "      <td>3</td>\n",
              "      <td>Medical</td>\n",
              "      <td>1</td>\n",
              "      <td>1310</td>\n",
              "      <td>3</td>\n",
              "      <td>Male</td>\n",
              "      <td>93</td>\n",
              "      <td>3</td>\n",
              "      <td>1</td>\n",
              "      <td>Research Scientist</td>\n",
              "      <td>1</td>\n",
              "      <td>Single</td>\n",
              "      <td>3904</td>\n",
              "      <td>22154</td>\n",
              "      <td>0</td>\n",
              "      <td>Y</td>\n",
              "      <td>No</td>\n",
              "      <td>13</td>\n",
              "      <td>3</td>\n",
              "      <td>1</td>\n",
              "      <td>80</td>\n",
              "      <td>0</td>\n",
              "      <td>6</td>\n",
              "      <td>2</td>\n",
              "      <td>3</td>\n",
              "      <td>5</td>\n",
              "      <td>2</td>\n",
              "      <td>0</td>\n",
              "      <td>3</td>\n",
              "      <td>Yes</td>\n",
              "    </tr>\n",
              "    <tr>\n",
              "      <th>3</th>\n",
              "      <td>26</td>\n",
              "      <td>Travel_Rarely</td>\n",
              "      <td>933</td>\n",
              "      <td>Sales</td>\n",
              "      <td>1</td>\n",
              "      <td>3</td>\n",
              "      <td>Life Sciences</td>\n",
              "      <td>1</td>\n",
              "      <td>476</td>\n",
              "      <td>3</td>\n",
              "      <td>Male</td>\n",
              "      <td>57</td>\n",
              "      <td>3</td>\n",
              "      <td>2</td>\n",
              "      <td>Sales Executive</td>\n",
              "      <td>3</td>\n",
              "      <td>Married</td>\n",
              "      <td>5296</td>\n",
              "      <td>20156</td>\n",
              "      <td>1</td>\n",
              "      <td>Y</td>\n",
              "      <td>No</td>\n",
              "      <td>17</td>\n",
              "      <td>3</td>\n",
              "      <td>2</td>\n",
              "      <td>80</td>\n",
              "      <td>1</td>\n",
              "      <td>8</td>\n",
              "      <td>3</td>\n",
              "      <td>3</td>\n",
              "      <td>8</td>\n",
              "      <td>7</td>\n",
              "      <td>7</td>\n",
              "      <td>7</td>\n",
              "      <td>No</td>\n",
              "    </tr>\n",
              "    <tr>\n",
              "      <th>4</th>\n",
              "      <td>40</td>\n",
              "      <td>Travel_Rarely</td>\n",
              "      <td>329</td>\n",
              "      <td>Research &amp; Development</td>\n",
              "      <td>1</td>\n",
              "      <td>4</td>\n",
              "      <td>Life Sciences</td>\n",
              "      <td>1</td>\n",
              "      <td>1361</td>\n",
              "      <td>2</td>\n",
              "      <td>Male</td>\n",
              "      <td>88</td>\n",
              "      <td>3</td>\n",
              "      <td>1</td>\n",
              "      <td>Laboratory Technician</td>\n",
              "      <td>2</td>\n",
              "      <td>Married</td>\n",
              "      <td>2387</td>\n",
              "      <td>6762</td>\n",
              "      <td>3</td>\n",
              "      <td>Y</td>\n",
              "      <td>No</td>\n",
              "      <td>22</td>\n",
              "      <td>4</td>\n",
              "      <td>3</td>\n",
              "      <td>80</td>\n",
              "      <td>1</td>\n",
              "      <td>7</td>\n",
              "      <td>3</td>\n",
              "      <td>3</td>\n",
              "      <td>4</td>\n",
              "      <td>2</td>\n",
              "      <td>0</td>\n",
              "      <td>3</td>\n",
              "      <td>No</td>\n",
              "    </tr>\n",
              "  </tbody>\n",
              "</table>\n",
              "</div>\n",
              "      <button class=\"colab-df-convert\" onclick=\"convertToInteractive('df-0e77d158-a47a-4a84-affc-a7bc9d23d49f')\"\n",
              "              title=\"Convert this dataframe to an interactive table.\"\n",
              "              style=\"display:none;\">\n",
              "        \n",
              "  <svg xmlns=\"http://www.w3.org/2000/svg\" height=\"24px\"viewBox=\"0 0 24 24\"\n",
              "       width=\"24px\">\n",
              "    <path d=\"M0 0h24v24H0V0z\" fill=\"none\"/>\n",
              "    <path d=\"M18.56 5.44l.94 2.06.94-2.06 2.06-.94-2.06-.94-.94-2.06-.94 2.06-2.06.94zm-11 1L8.5 8.5l.94-2.06 2.06-.94-2.06-.94L8.5 2.5l-.94 2.06-2.06.94zm10 10l.94 2.06.94-2.06 2.06-.94-2.06-.94-.94-2.06-.94 2.06-2.06.94z\"/><path d=\"M17.41 7.96l-1.37-1.37c-.4-.4-.92-.59-1.43-.59-.52 0-1.04.2-1.43.59L10.3 9.45l-7.72 7.72c-.78.78-.78 2.05 0 2.83L4 21.41c.39.39.9.59 1.41.59.51 0 1.02-.2 1.41-.59l7.78-7.78 2.81-2.81c.8-.78.8-2.07 0-2.86zM5.41 20L4 18.59l7.72-7.72 1.47 1.35L5.41 20z\"/>\n",
              "  </svg>\n",
              "      </button>\n",
              "      \n",
              "  <style>\n",
              "    .colab-df-container {\n",
              "      display:flex;\n",
              "      flex-wrap:wrap;\n",
              "      gap: 12px;\n",
              "    }\n",
              "\n",
              "    .colab-df-convert {\n",
              "      background-color: #E8F0FE;\n",
              "      border: none;\n",
              "      border-radius: 50%;\n",
              "      cursor: pointer;\n",
              "      display: none;\n",
              "      fill: #1967D2;\n",
              "      height: 32px;\n",
              "      padding: 0 0 0 0;\n",
              "      width: 32px;\n",
              "    }\n",
              "\n",
              "    .colab-df-convert:hover {\n",
              "      background-color: #E2EBFA;\n",
              "      box-shadow: 0px 1px 2px rgba(60, 64, 67, 0.3), 0px 1px 3px 1px rgba(60, 64, 67, 0.15);\n",
              "      fill: #174EA6;\n",
              "    }\n",
              "\n",
              "    [theme=dark] .colab-df-convert {\n",
              "      background-color: #3B4455;\n",
              "      fill: #D2E3FC;\n",
              "    }\n",
              "\n",
              "    [theme=dark] .colab-df-convert:hover {\n",
              "      background-color: #434B5C;\n",
              "      box-shadow: 0px 1px 3px 1px rgba(0, 0, 0, 0.15);\n",
              "      filter: drop-shadow(0px 1px 2px rgba(0, 0, 0, 0.3));\n",
              "      fill: #FFFFFF;\n",
              "    }\n",
              "  </style>\n",
              "\n",
              "      <script>\n",
              "        const buttonEl =\n",
              "          document.querySelector('#df-0e77d158-a47a-4a84-affc-a7bc9d23d49f button.colab-df-convert');\n",
              "        buttonEl.style.display =\n",
              "          google.colab.kernel.accessAllowed ? 'block' : 'none';\n",
              "\n",
              "        async function convertToInteractive(key) {\n",
              "          const element = document.querySelector('#df-0e77d158-a47a-4a84-affc-a7bc9d23d49f');\n",
              "          const dataTable =\n",
              "            await google.colab.kernel.invokeFunction('convertToInteractive',\n",
              "                                                     [key], {});\n",
              "          if (!dataTable) return;\n",
              "\n",
              "          const docLinkHtml = 'Like what you see? Visit the ' +\n",
              "            '<a target=\"_blank\" href=https://colab.research.google.com/notebooks/data_table.ipynb>data table notebook</a>'\n",
              "            + ' to learn more about interactive tables.';\n",
              "          element.innerHTML = '';\n",
              "          dataTable['output_type'] = 'display_data';\n",
              "          await google.colab.output.renderOutput(dataTable, element);\n",
              "          const docLink = document.createElement('div');\n",
              "          docLink.innerHTML = docLinkHtml;\n",
              "          element.appendChild(docLink);\n",
              "        }\n",
              "      </script>\n",
              "    </div>\n",
              "  </div>\n",
              "  "
            ]
          },
          "metadata": {},
          "execution_count": 316
        }
      ]
    },
    {
      "cell_type": "code",
      "source": [
        "df2 = pd.get_dummies(df, columns = cat_col, drop_first = True)\n",
        "df2.head()"
      ],
      "metadata": {
        "colab": {
          "base_uri": "https://localhost:8080/",
          "height": 287
        },
        "id": "DqADDbElpnHo",
        "outputId": "43ca3da7-5c25-4f79-8948-a39baaaf9023"
      },
      "execution_count": null,
      "outputs": [
        {
          "output_type": "execute_result",
          "data": {
            "text/plain": [
              "   age  dailyrate  distancefromhome  education  employeecount  employeenumber  \\\n",
              "0   45        556                25          2              1            1888   \n",
              "1   34        970                 8          2              1             757   \n",
              "2   39        360                23          3              1            1310   \n",
              "3   26        933                 1          3              1             476   \n",
              "4   40        329                 1          4              1            1361   \n",
              "\n",
              "   environmentsatisfaction  hourlyrate  jobinvolvement  joblevel  \\\n",
              "0                        2          93               2         2   \n",
              "1                        2          96               3         2   \n",
              "2                        3          93               3         1   \n",
              "3                        3          57               3         2   \n",
              "4                        2          88               3         1   \n",
              "\n",
              "   jobsatisfaction  monthlyincome  monthlyrate  numcompaniesworked  \\\n",
              "0                4           5906        23888                   0   \n",
              "1                3           6142         7360                   3   \n",
              "2                1           3904        22154                   0   \n",
              "3                3           5296        20156                   1   \n",
              "4                2           2387         6762                   3   \n",
              "\n",
              "   percentsalaryhike  performancerating  relationshipsatisfaction  \\\n",
              "0                 13                  3                         4   \n",
              "1                 11                  3                         4   \n",
              "2                 13                  3                         1   \n",
              "3                 17                  3                         2   \n",
              "4                 22                  4                         3   \n",
              "\n",
              "   standardhours  stockoptionlevel  totalworkingyears  trainingtimeslastyear  \\\n",
              "0             80                 2                 10                      2   \n",
              "1             80                 0                 10                      2   \n",
              "2             80                 0                  6                      2   \n",
              "3             80                 1                  8                      3   \n",
              "4             80                 1                  7                      3   \n",
              "\n",
              "   worklifebalance  yearsatcompany  yearsincurrentrole  \\\n",
              "0                2               9                   8   \n",
              "1                3               5                   1   \n",
              "2                3               5                   2   \n",
              "3                3               8                   7   \n",
              "4                3               4                   2   \n",
              "\n",
              "   yearssincelastpromotion  yearswithcurrmanager  \\\n",
              "0                        3                     8   \n",
              "1                        4                     3   \n",
              "2                        0                     3   \n",
              "3                        7                     7   \n",
              "4                        0                     3   \n",
              "\n",
              "   businesstravel_Travel_Frequently  businesstravel_Travel_Rarely  \\\n",
              "0                                 0                             1   \n",
              "1                                 0                             1   \n",
              "2                                 0                             1   \n",
              "3                                 0                             1   \n",
              "4                                 0                             1   \n",
              "\n",
              "   department_Research & Development  department_Sales  \\\n",
              "0                                  1                 0   \n",
              "1                                  1                 0   \n",
              "2                                  1                 0   \n",
              "3                                  0                 1   \n",
              "4                                  1                 0   \n",
              "\n",
              "   educationfield_Life Sciences  educationfield_Marketing  \\\n",
              "0                             1                         0   \n",
              "1                             0                         0   \n",
              "2                             0                         0   \n",
              "3                             1                         0   \n",
              "4                             1                         0   \n",
              "\n",
              "   educationfield_Medical  educationfield_Other  \\\n",
              "0                       0                     0   \n",
              "1                       1                     0   \n",
              "2                       1                     0   \n",
              "3                       0                     0   \n",
              "4                       0                     0   \n",
              "\n",
              "   educationfield_Technical Degree  gender_Male  jobrole_Human Resources  \\\n",
              "0                                0            0                        0   \n",
              "1                                0            0                        0   \n",
              "2                                0            1                        0   \n",
              "3                                0            1                        0   \n",
              "4                                0            1                        0   \n",
              "\n",
              "   jobrole_Laboratory Technician  jobrole_Manager  \\\n",
              "0                              0                0   \n",
              "1                              0                0   \n",
              "2                              0                0   \n",
              "3                              0                0   \n",
              "4                              1                0   \n",
              "\n",
              "   jobrole_Manufacturing Director  jobrole_Research Director  \\\n",
              "0                               1                          0   \n",
              "1                               0                          0   \n",
              "2                               0                          0   \n",
              "3                               0                          0   \n",
              "4                               0                          0   \n",
              "\n",
              "   jobrole_Research Scientist  jobrole_Sales Executive  \\\n",
              "0                           0                        0   \n",
              "1                           0                        0   \n",
              "2                           1                        0   \n",
              "3                           0                        1   \n",
              "4                           0                        0   \n",
              "\n",
              "   jobrole_Sales Representative  maritalstatus_Married  maritalstatus_Single  \\\n",
              "0                             0                      1                     0   \n",
              "1                             0                      0                     1   \n",
              "2                             0                      0                     1   \n",
              "3                             0                      1                     0   \n",
              "4                             0                      1                     0   \n",
              "\n",
              "   overtime_Yes  attrition_Yes  \n",
              "0             0              0  \n",
              "1             0              0  \n",
              "2             0              1  \n",
              "3             0              0  \n",
              "4             0              0  "
            ],
            "text/html": [
              "\n",
              "  <div id=\"df-cc8e626b-2ce6-42ff-a454-cfd02d280f82\">\n",
              "    <div class=\"colab-df-container\">\n",
              "      <div>\n",
              "<style scoped>\n",
              "    .dataframe tbody tr th:only-of-type {\n",
              "        vertical-align: middle;\n",
              "    }\n",
              "\n",
              "    .dataframe tbody tr th {\n",
              "        vertical-align: top;\n",
              "    }\n",
              "\n",
              "    .dataframe thead th {\n",
              "        text-align: right;\n",
              "    }\n",
              "</style>\n",
              "<table border=\"1\" class=\"dataframe\">\n",
              "  <thead>\n",
              "    <tr style=\"text-align: right;\">\n",
              "      <th></th>\n",
              "      <th>age</th>\n",
              "      <th>dailyrate</th>\n",
              "      <th>distancefromhome</th>\n",
              "      <th>education</th>\n",
              "      <th>employeecount</th>\n",
              "      <th>employeenumber</th>\n",
              "      <th>environmentsatisfaction</th>\n",
              "      <th>hourlyrate</th>\n",
              "      <th>jobinvolvement</th>\n",
              "      <th>joblevel</th>\n",
              "      <th>jobsatisfaction</th>\n",
              "      <th>monthlyincome</th>\n",
              "      <th>monthlyrate</th>\n",
              "      <th>numcompaniesworked</th>\n",
              "      <th>percentsalaryhike</th>\n",
              "      <th>performancerating</th>\n",
              "      <th>relationshipsatisfaction</th>\n",
              "      <th>standardhours</th>\n",
              "      <th>stockoptionlevel</th>\n",
              "      <th>totalworkingyears</th>\n",
              "      <th>trainingtimeslastyear</th>\n",
              "      <th>worklifebalance</th>\n",
              "      <th>yearsatcompany</th>\n",
              "      <th>yearsincurrentrole</th>\n",
              "      <th>yearssincelastpromotion</th>\n",
              "      <th>yearswithcurrmanager</th>\n",
              "      <th>businesstravel_Travel_Frequently</th>\n",
              "      <th>businesstravel_Travel_Rarely</th>\n",
              "      <th>department_Research &amp; Development</th>\n",
              "      <th>department_Sales</th>\n",
              "      <th>educationfield_Life Sciences</th>\n",
              "      <th>educationfield_Marketing</th>\n",
              "      <th>educationfield_Medical</th>\n",
              "      <th>educationfield_Other</th>\n",
              "      <th>educationfield_Technical Degree</th>\n",
              "      <th>gender_Male</th>\n",
              "      <th>jobrole_Human Resources</th>\n",
              "      <th>jobrole_Laboratory Technician</th>\n",
              "      <th>jobrole_Manager</th>\n",
              "      <th>jobrole_Manufacturing Director</th>\n",
              "      <th>jobrole_Research Director</th>\n",
              "      <th>jobrole_Research Scientist</th>\n",
              "      <th>jobrole_Sales Executive</th>\n",
              "      <th>jobrole_Sales Representative</th>\n",
              "      <th>maritalstatus_Married</th>\n",
              "      <th>maritalstatus_Single</th>\n",
              "      <th>overtime_Yes</th>\n",
              "      <th>attrition_Yes</th>\n",
              "    </tr>\n",
              "  </thead>\n",
              "  <tbody>\n",
              "    <tr>\n",
              "      <th>0</th>\n",
              "      <td>45</td>\n",
              "      <td>556</td>\n",
              "      <td>25</td>\n",
              "      <td>2</td>\n",
              "      <td>1</td>\n",
              "      <td>1888</td>\n",
              "      <td>2</td>\n",
              "      <td>93</td>\n",
              "      <td>2</td>\n",
              "      <td>2</td>\n",
              "      <td>4</td>\n",
              "      <td>5906</td>\n",
              "      <td>23888</td>\n",
              "      <td>0</td>\n",
              "      <td>13</td>\n",
              "      <td>3</td>\n",
              "      <td>4</td>\n",
              "      <td>80</td>\n",
              "      <td>2</td>\n",
              "      <td>10</td>\n",
              "      <td>2</td>\n",
              "      <td>2</td>\n",
              "      <td>9</td>\n",
              "      <td>8</td>\n",
              "      <td>3</td>\n",
              "      <td>8</td>\n",
              "      <td>0</td>\n",
              "      <td>1</td>\n",
              "      <td>1</td>\n",
              "      <td>0</td>\n",
              "      <td>1</td>\n",
              "      <td>0</td>\n",
              "      <td>0</td>\n",
              "      <td>0</td>\n",
              "      <td>0</td>\n",
              "      <td>0</td>\n",
              "      <td>0</td>\n",
              "      <td>0</td>\n",
              "      <td>0</td>\n",
              "      <td>1</td>\n",
              "      <td>0</td>\n",
              "      <td>0</td>\n",
              "      <td>0</td>\n",
              "      <td>0</td>\n",
              "      <td>1</td>\n",
              "      <td>0</td>\n",
              "      <td>0</td>\n",
              "      <td>0</td>\n",
              "    </tr>\n",
              "    <tr>\n",
              "      <th>1</th>\n",
              "      <td>34</td>\n",
              "      <td>970</td>\n",
              "      <td>8</td>\n",
              "      <td>2</td>\n",
              "      <td>1</td>\n",
              "      <td>757</td>\n",
              "      <td>2</td>\n",
              "      <td>96</td>\n",
              "      <td>3</td>\n",
              "      <td>2</td>\n",
              "      <td>3</td>\n",
              "      <td>6142</td>\n",
              "      <td>7360</td>\n",
              "      <td>3</td>\n",
              "      <td>11</td>\n",
              "      <td>3</td>\n",
              "      <td>4</td>\n",
              "      <td>80</td>\n",
              "      <td>0</td>\n",
              "      <td>10</td>\n",
              "      <td>2</td>\n",
              "      <td>3</td>\n",
              "      <td>5</td>\n",
              "      <td>1</td>\n",
              "      <td>4</td>\n",
              "      <td>3</td>\n",
              "      <td>0</td>\n",
              "      <td>1</td>\n",
              "      <td>1</td>\n",
              "      <td>0</td>\n",
              "      <td>0</td>\n",
              "      <td>0</td>\n",
              "      <td>1</td>\n",
              "      <td>0</td>\n",
              "      <td>0</td>\n",
              "      <td>0</td>\n",
              "      <td>0</td>\n",
              "      <td>0</td>\n",
              "      <td>0</td>\n",
              "      <td>0</td>\n",
              "      <td>0</td>\n",
              "      <td>0</td>\n",
              "      <td>0</td>\n",
              "      <td>0</td>\n",
              "      <td>0</td>\n",
              "      <td>1</td>\n",
              "      <td>0</td>\n",
              "      <td>0</td>\n",
              "    </tr>\n",
              "    <tr>\n",
              "      <th>2</th>\n",
              "      <td>39</td>\n",
              "      <td>360</td>\n",
              "      <td>23</td>\n",
              "      <td>3</td>\n",
              "      <td>1</td>\n",
              "      <td>1310</td>\n",
              "      <td>3</td>\n",
              "      <td>93</td>\n",
              "      <td>3</td>\n",
              "      <td>1</td>\n",
              "      <td>1</td>\n",
              "      <td>3904</td>\n",
              "      <td>22154</td>\n",
              "      <td>0</td>\n",
              "      <td>13</td>\n",
              "      <td>3</td>\n",
              "      <td>1</td>\n",
              "      <td>80</td>\n",
              "      <td>0</td>\n",
              "      <td>6</td>\n",
              "      <td>2</td>\n",
              "      <td>3</td>\n",
              "      <td>5</td>\n",
              "      <td>2</td>\n",
              "      <td>0</td>\n",
              "      <td>3</td>\n",
              "      <td>0</td>\n",
              "      <td>1</td>\n",
              "      <td>1</td>\n",
              "      <td>0</td>\n",
              "      <td>0</td>\n",
              "      <td>0</td>\n",
              "      <td>1</td>\n",
              "      <td>0</td>\n",
              "      <td>0</td>\n",
              "      <td>1</td>\n",
              "      <td>0</td>\n",
              "      <td>0</td>\n",
              "      <td>0</td>\n",
              "      <td>0</td>\n",
              "      <td>0</td>\n",
              "      <td>1</td>\n",
              "      <td>0</td>\n",
              "      <td>0</td>\n",
              "      <td>0</td>\n",
              "      <td>1</td>\n",
              "      <td>0</td>\n",
              "      <td>1</td>\n",
              "    </tr>\n",
              "    <tr>\n",
              "      <th>3</th>\n",
              "      <td>26</td>\n",
              "      <td>933</td>\n",
              "      <td>1</td>\n",
              "      <td>3</td>\n",
              "      <td>1</td>\n",
              "      <td>476</td>\n",
              "      <td>3</td>\n",
              "      <td>57</td>\n",
              "      <td>3</td>\n",
              "      <td>2</td>\n",
              "      <td>3</td>\n",
              "      <td>5296</td>\n",
              "      <td>20156</td>\n",
              "      <td>1</td>\n",
              "      <td>17</td>\n",
              "      <td>3</td>\n",
              "      <td>2</td>\n",
              "      <td>80</td>\n",
              "      <td>1</td>\n",
              "      <td>8</td>\n",
              "      <td>3</td>\n",
              "      <td>3</td>\n",
              "      <td>8</td>\n",
              "      <td>7</td>\n",
              "      <td>7</td>\n",
              "      <td>7</td>\n",
              "      <td>0</td>\n",
              "      <td>1</td>\n",
              "      <td>0</td>\n",
              "      <td>1</td>\n",
              "      <td>1</td>\n",
              "      <td>0</td>\n",
              "      <td>0</td>\n",
              "      <td>0</td>\n",
              "      <td>0</td>\n",
              "      <td>1</td>\n",
              "      <td>0</td>\n",
              "      <td>0</td>\n",
              "      <td>0</td>\n",
              "      <td>0</td>\n",
              "      <td>0</td>\n",
              "      <td>0</td>\n",
              "      <td>1</td>\n",
              "      <td>0</td>\n",
              "      <td>1</td>\n",
              "      <td>0</td>\n",
              "      <td>0</td>\n",
              "      <td>0</td>\n",
              "    </tr>\n",
              "    <tr>\n",
              "      <th>4</th>\n",
              "      <td>40</td>\n",
              "      <td>329</td>\n",
              "      <td>1</td>\n",
              "      <td>4</td>\n",
              "      <td>1</td>\n",
              "      <td>1361</td>\n",
              "      <td>2</td>\n",
              "      <td>88</td>\n",
              "      <td>3</td>\n",
              "      <td>1</td>\n",
              "      <td>2</td>\n",
              "      <td>2387</td>\n",
              "      <td>6762</td>\n",
              "      <td>3</td>\n",
              "      <td>22</td>\n",
              "      <td>4</td>\n",
              "      <td>3</td>\n",
              "      <td>80</td>\n",
              "      <td>1</td>\n",
              "      <td>7</td>\n",
              "      <td>3</td>\n",
              "      <td>3</td>\n",
              "      <td>4</td>\n",
              "      <td>2</td>\n",
              "      <td>0</td>\n",
              "      <td>3</td>\n",
              "      <td>0</td>\n",
              "      <td>1</td>\n",
              "      <td>1</td>\n",
              "      <td>0</td>\n",
              "      <td>1</td>\n",
              "      <td>0</td>\n",
              "      <td>0</td>\n",
              "      <td>0</td>\n",
              "      <td>0</td>\n",
              "      <td>1</td>\n",
              "      <td>0</td>\n",
              "      <td>1</td>\n",
              "      <td>0</td>\n",
              "      <td>0</td>\n",
              "      <td>0</td>\n",
              "      <td>0</td>\n",
              "      <td>0</td>\n",
              "      <td>0</td>\n",
              "      <td>1</td>\n",
              "      <td>0</td>\n",
              "      <td>0</td>\n",
              "      <td>0</td>\n",
              "    </tr>\n",
              "  </tbody>\n",
              "</table>\n",
              "</div>\n",
              "      <button class=\"colab-df-convert\" onclick=\"convertToInteractive('df-cc8e626b-2ce6-42ff-a454-cfd02d280f82')\"\n",
              "              title=\"Convert this dataframe to an interactive table.\"\n",
              "              style=\"display:none;\">\n",
              "        \n",
              "  <svg xmlns=\"http://www.w3.org/2000/svg\" height=\"24px\"viewBox=\"0 0 24 24\"\n",
              "       width=\"24px\">\n",
              "    <path d=\"M0 0h24v24H0V0z\" fill=\"none\"/>\n",
              "    <path d=\"M18.56 5.44l.94 2.06.94-2.06 2.06-.94-2.06-.94-.94-2.06-.94 2.06-2.06.94zm-11 1L8.5 8.5l.94-2.06 2.06-.94-2.06-.94L8.5 2.5l-.94 2.06-2.06.94zm10 10l.94 2.06.94-2.06 2.06-.94-2.06-.94-.94-2.06-.94 2.06-2.06.94z\"/><path d=\"M17.41 7.96l-1.37-1.37c-.4-.4-.92-.59-1.43-.59-.52 0-1.04.2-1.43.59L10.3 9.45l-7.72 7.72c-.78.78-.78 2.05 0 2.83L4 21.41c.39.39.9.59 1.41.59.51 0 1.02-.2 1.41-.59l7.78-7.78 2.81-2.81c.8-.78.8-2.07 0-2.86zM5.41 20L4 18.59l7.72-7.72 1.47 1.35L5.41 20z\"/>\n",
              "  </svg>\n",
              "      </button>\n",
              "      \n",
              "  <style>\n",
              "    .colab-df-container {\n",
              "      display:flex;\n",
              "      flex-wrap:wrap;\n",
              "      gap: 12px;\n",
              "    }\n",
              "\n",
              "    .colab-df-convert {\n",
              "      background-color: #E8F0FE;\n",
              "      border: none;\n",
              "      border-radius: 50%;\n",
              "      cursor: pointer;\n",
              "      display: none;\n",
              "      fill: #1967D2;\n",
              "      height: 32px;\n",
              "      padding: 0 0 0 0;\n",
              "      width: 32px;\n",
              "    }\n",
              "\n",
              "    .colab-df-convert:hover {\n",
              "      background-color: #E2EBFA;\n",
              "      box-shadow: 0px 1px 2px rgba(60, 64, 67, 0.3), 0px 1px 3px 1px rgba(60, 64, 67, 0.15);\n",
              "      fill: #174EA6;\n",
              "    }\n",
              "\n",
              "    [theme=dark] .colab-df-convert {\n",
              "      background-color: #3B4455;\n",
              "      fill: #D2E3FC;\n",
              "    }\n",
              "\n",
              "    [theme=dark] .colab-df-convert:hover {\n",
              "      background-color: #434B5C;\n",
              "      box-shadow: 0px 1px 3px 1px rgba(0, 0, 0, 0.15);\n",
              "      filter: drop-shadow(0px 1px 2px rgba(0, 0, 0, 0.3));\n",
              "      fill: #FFFFFF;\n",
              "    }\n",
              "  </style>\n",
              "\n",
              "      <script>\n",
              "        const buttonEl =\n",
              "          document.querySelector('#df-cc8e626b-2ce6-42ff-a454-cfd02d280f82 button.colab-df-convert');\n",
              "        buttonEl.style.display =\n",
              "          google.colab.kernel.accessAllowed ? 'block' : 'none';\n",
              "\n",
              "        async function convertToInteractive(key) {\n",
              "          const element = document.querySelector('#df-cc8e626b-2ce6-42ff-a454-cfd02d280f82');\n",
              "          const dataTable =\n",
              "            await google.colab.kernel.invokeFunction('convertToInteractive',\n",
              "                                                     [key], {});\n",
              "          if (!dataTable) return;\n",
              "\n",
              "          const docLinkHtml = 'Like what you see? Visit the ' +\n",
              "            '<a target=\"_blank\" href=https://colab.research.google.com/notebooks/data_table.ipynb>data table notebook</a>'\n",
              "            + ' to learn more about interactive tables.';\n",
              "          element.innerHTML = '';\n",
              "          dataTable['output_type'] = 'display_data';\n",
              "          await google.colab.output.renderOutput(dataTable, element);\n",
              "          const docLink = document.createElement('div');\n",
              "          docLink.innerHTML = docLinkHtml;\n",
              "          element.appendChild(docLink);\n",
              "        }\n",
              "      </script>\n",
              "    </div>\n",
              "  </div>\n",
              "  "
            ]
          },
          "metadata": {},
          "execution_count": 317
        }
      ]
    },
    {
      "cell_type": "code",
      "source": [
        "df2.columns"
      ],
      "metadata": {
        "colab": {
          "base_uri": "https://localhost:8080/"
        },
        "id": "7j7V8nsQEdnm",
        "outputId": "265e4dac-3b8c-4d1c-afc0-355fcade4029"
      },
      "execution_count": null,
      "outputs": [
        {
          "output_type": "execute_result",
          "data": {
            "text/plain": [
              "Index(['age', 'dailyrate', 'distancefromhome', 'education', 'employeecount',\n",
              "       'employeenumber', 'environmentsatisfaction', 'hourlyrate',\n",
              "       'jobinvolvement', 'joblevel', 'jobsatisfaction', 'monthlyincome',\n",
              "       'monthlyrate', 'numcompaniesworked', 'percentsalaryhike',\n",
              "       'performancerating', 'relationshipsatisfaction', 'standardhours',\n",
              "       'stockoptionlevel', 'totalworkingyears', 'trainingtimeslastyear',\n",
              "       'worklifebalance', 'yearsatcompany', 'yearsincurrentrole',\n",
              "       'yearssincelastpromotion', 'yearswithcurrmanager',\n",
              "       'businesstravel_Travel_Frequently', 'businesstravel_Travel_Rarely',\n",
              "       'department_Research & Development', 'department_Sales',\n",
              "       'educationfield_Life Sciences', 'educationfield_Marketing',\n",
              "       'educationfield_Medical', 'educationfield_Other',\n",
              "       'educationfield_Technical Degree', 'gender_Male',\n",
              "       'jobrole_Human Resources', 'jobrole_Laboratory Technician',\n",
              "       'jobrole_Manager', 'jobrole_Manufacturing Director',\n",
              "       'jobrole_Research Director', 'jobrole_Research Scientist',\n",
              "       'jobrole_Sales Executive', 'jobrole_Sales Representative',\n",
              "       'maritalstatus_Married', 'maritalstatus_Single', 'overtime_Yes',\n",
              "       'attrition_Yes'],\n",
              "      dtype='object')"
            ]
          },
          "metadata": {},
          "execution_count": 345
        }
      ]
    },
    {
      "cell_type": "code",
      "source": [
        "df2 = df2.drop([\"employeecount\",\"standardhours\"], axis=1)"
      ],
      "metadata": {
        "id": "6fdmP3VTEPQC"
      },
      "execution_count": null,
      "outputs": []
    },
    {
      "cell_type": "code",
      "source": [
        "X_train=df2.drop(['attrition_Yes'],axis = 1)\n",
        "y_train = df2['attrition_Yes']"
      ],
      "metadata": {
        "id": "UDJvI4pFr3Gn"
      },
      "execution_count": null,
      "outputs": []
    },
    {
      "cell_type": "code",
      "source": [
        "test = pd.read_csv('/content/hr_employee_attrition_test.csv').drop(['id'],axis = 1)"
      ],
      "metadata": {
        "id": "rdz5Cb2lqezl"
      },
      "execution_count": null,
      "outputs": []
    },
    {
      "cell_type": "code",
      "source": [
        "test.head()"
      ],
      "metadata": {
        "colab": {
          "base_uri": "https://localhost:8080/",
          "height": 357
        },
        "id": "QwAZ4xsyqfIY",
        "outputId": "650db35d-3a73-45f8-b9ac-768c3531d9e8"
      },
      "execution_count": null,
      "outputs": [
        {
          "output_type": "execute_result",
          "data": {
            "text/plain": [
              "   age     businesstravel  dailyrate              department  \\\n",
              "0   28      Travel_Rarely       1144                   Sales   \n",
              "1   32  Travel_Frequently        585  Research & Development   \n",
              "2   41      Travel_Rarely       1085  Research & Development   \n",
              "3   42      Travel_Rarely        557  Research & Development   \n",
              "4   41  Travel_Frequently       1018                   Sales   \n",
              "\n",
              "   distancefromhome  education educationfield  employeecount  employeenumber  \\\n",
              "0                10          1        Medical              1            1056   \n",
              "1                10          3  Life Sciences              1            1720   \n",
              "2                 2          4  Life Sciences              1             927   \n",
              "3                18          4  Life Sciences              1            1998   \n",
              "4                 1          3      Marketing              1            1349   \n",
              "\n",
              "   environmentsatisfaction  gender  hourlyrate  jobinvolvement  joblevel  \\\n",
              "0                        4    Male          74               3         1   \n",
              "1                        1    Male          56               3         1   \n",
              "2                        2  Female          57               1         1   \n",
              "3                        4    Male          35               3         2   \n",
              "4                        3  Female          66               3         2   \n",
              "\n",
              "                 jobrole  jobsatisfaction maritalstatus  monthlyincome  \\\n",
              "0   Sales Representative                2       Married           1052   \n",
              "1     Research Scientist                3       Married           3433   \n",
              "2  Laboratory Technician                4      Divorced           2778   \n",
              "3     Research Scientist                1      Divorced           5410   \n",
              "4        Sales Executive                1      Divorced           4103   \n",
              "\n",
              "   monthlyrate  numcompaniesworked over18 overtime  percentsalaryhike  \\\n",
              "0        23384                   1      Y       No                 22   \n",
              "1        17360                   6      Y       No                 13   \n",
              "2        17725                   4      Y      Yes                 13   \n",
              "3        11189                   6      Y      Yes                 17   \n",
              "4         4297                   0      Y       No                 17   \n",
              "\n",
              "   performancerating  relationshipsatisfaction  standardhours  \\\n",
              "0                  4                         2             80   \n",
              "1                  3                         1             80   \n",
              "2                  3                         3             80   \n",
              "3                  3                         3             80   \n",
              "4                  3                         4             80   \n",
              "\n",
              "   stockoptionlevel  totalworkingyears  trainingtimeslastyear  \\\n",
              "0                 0                  1                      5   \n",
              "1                 1                 10                      3   \n",
              "2                 1                 10                      1   \n",
              "3                 1                  9                      3   \n",
              "4                 1                 10                      2   \n",
              "\n",
              "   worklifebalance  yearsatcompany  yearsincurrentrole  \\\n",
              "0                3               1                   0   \n",
              "1                2               5                   2   \n",
              "2                2               7                   7   \n",
              "3                2               4                   3   \n",
              "4                3               9                   3   \n",
              "\n",
              "   yearssincelastpromotion  yearswithcurrmanager  \n",
              "0                        0                     0  \n",
              "1                        1                     3  \n",
              "2                        1                     0  \n",
              "3                        1                     2  \n",
              "4                        1                     7  "
            ],
            "text/html": [
              "\n",
              "  <div id=\"df-083084f7-322d-44df-abd3-86c2d675a7cd\">\n",
              "    <div class=\"colab-df-container\">\n",
              "      <div>\n",
              "<style scoped>\n",
              "    .dataframe tbody tr th:only-of-type {\n",
              "        vertical-align: middle;\n",
              "    }\n",
              "\n",
              "    .dataframe tbody tr th {\n",
              "        vertical-align: top;\n",
              "    }\n",
              "\n",
              "    .dataframe thead th {\n",
              "        text-align: right;\n",
              "    }\n",
              "</style>\n",
              "<table border=\"1\" class=\"dataframe\">\n",
              "  <thead>\n",
              "    <tr style=\"text-align: right;\">\n",
              "      <th></th>\n",
              "      <th>age</th>\n",
              "      <th>businesstravel</th>\n",
              "      <th>dailyrate</th>\n",
              "      <th>department</th>\n",
              "      <th>distancefromhome</th>\n",
              "      <th>education</th>\n",
              "      <th>educationfield</th>\n",
              "      <th>employeecount</th>\n",
              "      <th>employeenumber</th>\n",
              "      <th>environmentsatisfaction</th>\n",
              "      <th>gender</th>\n",
              "      <th>hourlyrate</th>\n",
              "      <th>jobinvolvement</th>\n",
              "      <th>joblevel</th>\n",
              "      <th>jobrole</th>\n",
              "      <th>jobsatisfaction</th>\n",
              "      <th>maritalstatus</th>\n",
              "      <th>monthlyincome</th>\n",
              "      <th>monthlyrate</th>\n",
              "      <th>numcompaniesworked</th>\n",
              "      <th>over18</th>\n",
              "      <th>overtime</th>\n",
              "      <th>percentsalaryhike</th>\n",
              "      <th>performancerating</th>\n",
              "      <th>relationshipsatisfaction</th>\n",
              "      <th>standardhours</th>\n",
              "      <th>stockoptionlevel</th>\n",
              "      <th>totalworkingyears</th>\n",
              "      <th>trainingtimeslastyear</th>\n",
              "      <th>worklifebalance</th>\n",
              "      <th>yearsatcompany</th>\n",
              "      <th>yearsincurrentrole</th>\n",
              "      <th>yearssincelastpromotion</th>\n",
              "      <th>yearswithcurrmanager</th>\n",
              "    </tr>\n",
              "  </thead>\n",
              "  <tbody>\n",
              "    <tr>\n",
              "      <th>0</th>\n",
              "      <td>28</td>\n",
              "      <td>Travel_Rarely</td>\n",
              "      <td>1144</td>\n",
              "      <td>Sales</td>\n",
              "      <td>10</td>\n",
              "      <td>1</td>\n",
              "      <td>Medical</td>\n",
              "      <td>1</td>\n",
              "      <td>1056</td>\n",
              "      <td>4</td>\n",
              "      <td>Male</td>\n",
              "      <td>74</td>\n",
              "      <td>3</td>\n",
              "      <td>1</td>\n",
              "      <td>Sales Representative</td>\n",
              "      <td>2</td>\n",
              "      <td>Married</td>\n",
              "      <td>1052</td>\n",
              "      <td>23384</td>\n",
              "      <td>1</td>\n",
              "      <td>Y</td>\n",
              "      <td>No</td>\n",
              "      <td>22</td>\n",
              "      <td>4</td>\n",
              "      <td>2</td>\n",
              "      <td>80</td>\n",
              "      <td>0</td>\n",
              "      <td>1</td>\n",
              "      <td>5</td>\n",
              "      <td>3</td>\n",
              "      <td>1</td>\n",
              "      <td>0</td>\n",
              "      <td>0</td>\n",
              "      <td>0</td>\n",
              "    </tr>\n",
              "    <tr>\n",
              "      <th>1</th>\n",
              "      <td>32</td>\n",
              "      <td>Travel_Frequently</td>\n",
              "      <td>585</td>\n",
              "      <td>Research &amp; Development</td>\n",
              "      <td>10</td>\n",
              "      <td>3</td>\n",
              "      <td>Life Sciences</td>\n",
              "      <td>1</td>\n",
              "      <td>1720</td>\n",
              "      <td>1</td>\n",
              "      <td>Male</td>\n",
              "      <td>56</td>\n",
              "      <td>3</td>\n",
              "      <td>1</td>\n",
              "      <td>Research Scientist</td>\n",
              "      <td>3</td>\n",
              "      <td>Married</td>\n",
              "      <td>3433</td>\n",
              "      <td>17360</td>\n",
              "      <td>6</td>\n",
              "      <td>Y</td>\n",
              "      <td>No</td>\n",
              "      <td>13</td>\n",
              "      <td>3</td>\n",
              "      <td>1</td>\n",
              "      <td>80</td>\n",
              "      <td>1</td>\n",
              "      <td>10</td>\n",
              "      <td>3</td>\n",
              "      <td>2</td>\n",
              "      <td>5</td>\n",
              "      <td>2</td>\n",
              "      <td>1</td>\n",
              "      <td>3</td>\n",
              "    </tr>\n",
              "    <tr>\n",
              "      <th>2</th>\n",
              "      <td>41</td>\n",
              "      <td>Travel_Rarely</td>\n",
              "      <td>1085</td>\n",
              "      <td>Research &amp; Development</td>\n",
              "      <td>2</td>\n",
              "      <td>4</td>\n",
              "      <td>Life Sciences</td>\n",
              "      <td>1</td>\n",
              "      <td>927</td>\n",
              "      <td>2</td>\n",
              "      <td>Female</td>\n",
              "      <td>57</td>\n",
              "      <td>1</td>\n",
              "      <td>1</td>\n",
              "      <td>Laboratory Technician</td>\n",
              "      <td>4</td>\n",
              "      <td>Divorced</td>\n",
              "      <td>2778</td>\n",
              "      <td>17725</td>\n",
              "      <td>4</td>\n",
              "      <td>Y</td>\n",
              "      <td>Yes</td>\n",
              "      <td>13</td>\n",
              "      <td>3</td>\n",
              "      <td>3</td>\n",
              "      <td>80</td>\n",
              "      <td>1</td>\n",
              "      <td>10</td>\n",
              "      <td>1</td>\n",
              "      <td>2</td>\n",
              "      <td>7</td>\n",
              "      <td>7</td>\n",
              "      <td>1</td>\n",
              "      <td>0</td>\n",
              "    </tr>\n",
              "    <tr>\n",
              "      <th>3</th>\n",
              "      <td>42</td>\n",
              "      <td>Travel_Rarely</td>\n",
              "      <td>557</td>\n",
              "      <td>Research &amp; Development</td>\n",
              "      <td>18</td>\n",
              "      <td>4</td>\n",
              "      <td>Life Sciences</td>\n",
              "      <td>1</td>\n",
              "      <td>1998</td>\n",
              "      <td>4</td>\n",
              "      <td>Male</td>\n",
              "      <td>35</td>\n",
              "      <td>3</td>\n",
              "      <td>2</td>\n",
              "      <td>Research Scientist</td>\n",
              "      <td>1</td>\n",
              "      <td>Divorced</td>\n",
              "      <td>5410</td>\n",
              "      <td>11189</td>\n",
              "      <td>6</td>\n",
              "      <td>Y</td>\n",
              "      <td>Yes</td>\n",
              "      <td>17</td>\n",
              "      <td>3</td>\n",
              "      <td>3</td>\n",
              "      <td>80</td>\n",
              "      <td>1</td>\n",
              "      <td>9</td>\n",
              "      <td>3</td>\n",
              "      <td>2</td>\n",
              "      <td>4</td>\n",
              "      <td>3</td>\n",
              "      <td>1</td>\n",
              "      <td>2</td>\n",
              "    </tr>\n",
              "    <tr>\n",
              "      <th>4</th>\n",
              "      <td>41</td>\n",
              "      <td>Travel_Frequently</td>\n",
              "      <td>1018</td>\n",
              "      <td>Sales</td>\n",
              "      <td>1</td>\n",
              "      <td>3</td>\n",
              "      <td>Marketing</td>\n",
              "      <td>1</td>\n",
              "      <td>1349</td>\n",
              "      <td>3</td>\n",
              "      <td>Female</td>\n",
              "      <td>66</td>\n",
              "      <td>3</td>\n",
              "      <td>2</td>\n",
              "      <td>Sales Executive</td>\n",
              "      <td>1</td>\n",
              "      <td>Divorced</td>\n",
              "      <td>4103</td>\n",
              "      <td>4297</td>\n",
              "      <td>0</td>\n",
              "      <td>Y</td>\n",
              "      <td>No</td>\n",
              "      <td>17</td>\n",
              "      <td>3</td>\n",
              "      <td>4</td>\n",
              "      <td>80</td>\n",
              "      <td>1</td>\n",
              "      <td>10</td>\n",
              "      <td>2</td>\n",
              "      <td>3</td>\n",
              "      <td>9</td>\n",
              "      <td>3</td>\n",
              "      <td>1</td>\n",
              "      <td>7</td>\n",
              "    </tr>\n",
              "  </tbody>\n",
              "</table>\n",
              "</div>\n",
              "      <button class=\"colab-df-convert\" onclick=\"convertToInteractive('df-083084f7-322d-44df-abd3-86c2d675a7cd')\"\n",
              "              title=\"Convert this dataframe to an interactive table.\"\n",
              "              style=\"display:none;\">\n",
              "        \n",
              "  <svg xmlns=\"http://www.w3.org/2000/svg\" height=\"24px\"viewBox=\"0 0 24 24\"\n",
              "       width=\"24px\">\n",
              "    <path d=\"M0 0h24v24H0V0z\" fill=\"none\"/>\n",
              "    <path d=\"M18.56 5.44l.94 2.06.94-2.06 2.06-.94-2.06-.94-.94-2.06-.94 2.06-2.06.94zm-11 1L8.5 8.5l.94-2.06 2.06-.94-2.06-.94L8.5 2.5l-.94 2.06-2.06.94zm10 10l.94 2.06.94-2.06 2.06-.94-2.06-.94-.94-2.06-.94 2.06-2.06.94z\"/><path d=\"M17.41 7.96l-1.37-1.37c-.4-.4-.92-.59-1.43-.59-.52 0-1.04.2-1.43.59L10.3 9.45l-7.72 7.72c-.78.78-.78 2.05 0 2.83L4 21.41c.39.39.9.59 1.41.59.51 0 1.02-.2 1.41-.59l7.78-7.78 2.81-2.81c.8-.78.8-2.07 0-2.86zM5.41 20L4 18.59l7.72-7.72 1.47 1.35L5.41 20z\"/>\n",
              "  </svg>\n",
              "      </button>\n",
              "      \n",
              "  <style>\n",
              "    .colab-df-container {\n",
              "      display:flex;\n",
              "      flex-wrap:wrap;\n",
              "      gap: 12px;\n",
              "    }\n",
              "\n",
              "    .colab-df-convert {\n",
              "      background-color: #E8F0FE;\n",
              "      border: none;\n",
              "      border-radius: 50%;\n",
              "      cursor: pointer;\n",
              "      display: none;\n",
              "      fill: #1967D2;\n",
              "      height: 32px;\n",
              "      padding: 0 0 0 0;\n",
              "      width: 32px;\n",
              "    }\n",
              "\n",
              "    .colab-df-convert:hover {\n",
              "      background-color: #E2EBFA;\n",
              "      box-shadow: 0px 1px 2px rgba(60, 64, 67, 0.3), 0px 1px 3px 1px rgba(60, 64, 67, 0.15);\n",
              "      fill: #174EA6;\n",
              "    }\n",
              "\n",
              "    [theme=dark] .colab-df-convert {\n",
              "      background-color: #3B4455;\n",
              "      fill: #D2E3FC;\n",
              "    }\n",
              "\n",
              "    [theme=dark] .colab-df-convert:hover {\n",
              "      background-color: #434B5C;\n",
              "      box-shadow: 0px 1px 3px 1px rgba(0, 0, 0, 0.15);\n",
              "      filter: drop-shadow(0px 1px 2px rgba(0, 0, 0, 0.3));\n",
              "      fill: #FFFFFF;\n",
              "    }\n",
              "  </style>\n",
              "\n",
              "      <script>\n",
              "        const buttonEl =\n",
              "          document.querySelector('#df-083084f7-322d-44df-abd3-86c2d675a7cd button.colab-df-convert');\n",
              "        buttonEl.style.display =\n",
              "          google.colab.kernel.accessAllowed ? 'block' : 'none';\n",
              "\n",
              "        async function convertToInteractive(key) {\n",
              "          const element = document.querySelector('#df-083084f7-322d-44df-abd3-86c2d675a7cd');\n",
              "          const dataTable =\n",
              "            await google.colab.kernel.invokeFunction('convertToInteractive',\n",
              "                                                     [key], {});\n",
              "          if (!dataTable) return;\n",
              "\n",
              "          const docLinkHtml = 'Like what you see? Visit the ' +\n",
              "            '<a target=\"_blank\" href=https://colab.research.google.com/notebooks/data_table.ipynb>data table notebook</a>'\n",
              "            + ' to learn more about interactive tables.';\n",
              "          element.innerHTML = '';\n",
              "          dataTable['output_type'] = 'display_data';\n",
              "          await google.colab.output.renderOutput(dataTable, element);\n",
              "          const docLink = document.createElement('div');\n",
              "          docLink.innerHTML = docLinkHtml;\n",
              "          element.appendChild(docLink);\n",
              "        }\n",
              "      </script>\n",
              "    </div>\n",
              "  </div>\n",
              "  "
            ]
          },
          "metadata": {},
          "execution_count": 349
        }
      ]
    },
    {
      "cell_type": "code",
      "source": [
        "test = pd.get_dummies(test, drop_first = True)\n",
        "test.head()"
      ],
      "metadata": {
        "colab": {
          "base_uri": "https://localhost:8080/",
          "height": 287
        },
        "id": "mkkcNjeHqu-s",
        "outputId": "7e6a5eb5-d3ec-4917-c7ed-a3b2c3dea9f2"
      },
      "execution_count": null,
      "outputs": [
        {
          "output_type": "execute_result",
          "data": {
            "text/plain": [
              "   age  dailyrate  distancefromhome  education  employeecount  employeenumber  \\\n",
              "0   28       1144                10          1              1            1056   \n",
              "1   32        585                10          3              1            1720   \n",
              "2   41       1085                 2          4              1             927   \n",
              "3   42        557                18          4              1            1998   \n",
              "4   41       1018                 1          3              1            1349   \n",
              "\n",
              "   environmentsatisfaction  hourlyrate  jobinvolvement  joblevel  \\\n",
              "0                        4          74               3         1   \n",
              "1                        1          56               3         1   \n",
              "2                        2          57               1         1   \n",
              "3                        4          35               3         2   \n",
              "4                        3          66               3         2   \n",
              "\n",
              "   jobsatisfaction  monthlyincome  monthlyrate  numcompaniesworked  \\\n",
              "0                2           1052        23384                   1   \n",
              "1                3           3433        17360                   6   \n",
              "2                4           2778        17725                   4   \n",
              "3                1           5410        11189                   6   \n",
              "4                1           4103         4297                   0   \n",
              "\n",
              "   percentsalaryhike  performancerating  relationshipsatisfaction  \\\n",
              "0                 22                  4                         2   \n",
              "1                 13                  3                         1   \n",
              "2                 13                  3                         3   \n",
              "3                 17                  3                         3   \n",
              "4                 17                  3                         4   \n",
              "\n",
              "   standardhours  stockoptionlevel  totalworkingyears  trainingtimeslastyear  \\\n",
              "0             80                 0                  1                      5   \n",
              "1             80                 1                 10                      3   \n",
              "2             80                 1                 10                      1   \n",
              "3             80                 1                  9                      3   \n",
              "4             80                 1                 10                      2   \n",
              "\n",
              "   worklifebalance  yearsatcompany  yearsincurrentrole  \\\n",
              "0                3               1                   0   \n",
              "1                2               5                   2   \n",
              "2                2               7                   7   \n",
              "3                2               4                   3   \n",
              "4                3               9                   3   \n",
              "\n",
              "   yearssincelastpromotion  yearswithcurrmanager  \\\n",
              "0                        0                     0   \n",
              "1                        1                     3   \n",
              "2                        1                     0   \n",
              "3                        1                     2   \n",
              "4                        1                     7   \n",
              "\n",
              "   businesstravel_Travel_Frequently  businesstravel_Travel_Rarely  \\\n",
              "0                                 0                             1   \n",
              "1                                 1                             0   \n",
              "2                                 0                             1   \n",
              "3                                 0                             1   \n",
              "4                                 1                             0   \n",
              "\n",
              "   department_Research & Development  department_Sales  \\\n",
              "0                                  0                 1   \n",
              "1                                  1                 0   \n",
              "2                                  1                 0   \n",
              "3                                  1                 0   \n",
              "4                                  0                 1   \n",
              "\n",
              "   educationfield_Life Sciences  educationfield_Marketing  \\\n",
              "0                             0                         0   \n",
              "1                             1                         0   \n",
              "2                             1                         0   \n",
              "3                             1                         0   \n",
              "4                             0                         1   \n",
              "\n",
              "   educationfield_Medical  educationfield_Other  \\\n",
              "0                       1                     0   \n",
              "1                       0                     0   \n",
              "2                       0                     0   \n",
              "3                       0                     0   \n",
              "4                       0                     0   \n",
              "\n",
              "   educationfield_Technical Degree  gender_Male  jobrole_Human Resources  \\\n",
              "0                                0            1                        0   \n",
              "1                                0            1                        0   \n",
              "2                                0            0                        0   \n",
              "3                                0            1                        0   \n",
              "4                                0            0                        0   \n",
              "\n",
              "   jobrole_Laboratory Technician  jobrole_Manager  \\\n",
              "0                              0                0   \n",
              "1                              0                0   \n",
              "2                              1                0   \n",
              "3                              0                0   \n",
              "4                              0                0   \n",
              "\n",
              "   jobrole_Manufacturing Director  jobrole_Research Director  \\\n",
              "0                               0                          0   \n",
              "1                               0                          0   \n",
              "2                               0                          0   \n",
              "3                               0                          0   \n",
              "4                               0                          0   \n",
              "\n",
              "   jobrole_Research Scientist  jobrole_Sales Executive  \\\n",
              "0                           0                        0   \n",
              "1                           1                        0   \n",
              "2                           0                        0   \n",
              "3                           1                        0   \n",
              "4                           0                        1   \n",
              "\n",
              "   jobrole_Sales Representative  maritalstatus_Married  maritalstatus_Single  \\\n",
              "0                             1                      1                     0   \n",
              "1                             0                      1                     0   \n",
              "2                             0                      0                     0   \n",
              "3                             0                      0                     0   \n",
              "4                             0                      0                     0   \n",
              "\n",
              "   overtime_Yes  \n",
              "0             0  \n",
              "1             0  \n",
              "2             1  \n",
              "3             1  \n",
              "4             0  "
            ],
            "text/html": [
              "\n",
              "  <div id=\"df-165b7010-ac9c-4cc1-94ec-d1ae056de017\">\n",
              "    <div class=\"colab-df-container\">\n",
              "      <div>\n",
              "<style scoped>\n",
              "    .dataframe tbody tr th:only-of-type {\n",
              "        vertical-align: middle;\n",
              "    }\n",
              "\n",
              "    .dataframe tbody tr th {\n",
              "        vertical-align: top;\n",
              "    }\n",
              "\n",
              "    .dataframe thead th {\n",
              "        text-align: right;\n",
              "    }\n",
              "</style>\n",
              "<table border=\"1\" class=\"dataframe\">\n",
              "  <thead>\n",
              "    <tr style=\"text-align: right;\">\n",
              "      <th></th>\n",
              "      <th>age</th>\n",
              "      <th>dailyrate</th>\n",
              "      <th>distancefromhome</th>\n",
              "      <th>education</th>\n",
              "      <th>employeecount</th>\n",
              "      <th>employeenumber</th>\n",
              "      <th>environmentsatisfaction</th>\n",
              "      <th>hourlyrate</th>\n",
              "      <th>jobinvolvement</th>\n",
              "      <th>joblevel</th>\n",
              "      <th>jobsatisfaction</th>\n",
              "      <th>monthlyincome</th>\n",
              "      <th>monthlyrate</th>\n",
              "      <th>numcompaniesworked</th>\n",
              "      <th>percentsalaryhike</th>\n",
              "      <th>performancerating</th>\n",
              "      <th>relationshipsatisfaction</th>\n",
              "      <th>standardhours</th>\n",
              "      <th>stockoptionlevel</th>\n",
              "      <th>totalworkingyears</th>\n",
              "      <th>trainingtimeslastyear</th>\n",
              "      <th>worklifebalance</th>\n",
              "      <th>yearsatcompany</th>\n",
              "      <th>yearsincurrentrole</th>\n",
              "      <th>yearssincelastpromotion</th>\n",
              "      <th>yearswithcurrmanager</th>\n",
              "      <th>businesstravel_Travel_Frequently</th>\n",
              "      <th>businesstravel_Travel_Rarely</th>\n",
              "      <th>department_Research &amp; Development</th>\n",
              "      <th>department_Sales</th>\n",
              "      <th>educationfield_Life Sciences</th>\n",
              "      <th>educationfield_Marketing</th>\n",
              "      <th>educationfield_Medical</th>\n",
              "      <th>educationfield_Other</th>\n",
              "      <th>educationfield_Technical Degree</th>\n",
              "      <th>gender_Male</th>\n",
              "      <th>jobrole_Human Resources</th>\n",
              "      <th>jobrole_Laboratory Technician</th>\n",
              "      <th>jobrole_Manager</th>\n",
              "      <th>jobrole_Manufacturing Director</th>\n",
              "      <th>jobrole_Research Director</th>\n",
              "      <th>jobrole_Research Scientist</th>\n",
              "      <th>jobrole_Sales Executive</th>\n",
              "      <th>jobrole_Sales Representative</th>\n",
              "      <th>maritalstatus_Married</th>\n",
              "      <th>maritalstatus_Single</th>\n",
              "      <th>overtime_Yes</th>\n",
              "    </tr>\n",
              "  </thead>\n",
              "  <tbody>\n",
              "    <tr>\n",
              "      <th>0</th>\n",
              "      <td>28</td>\n",
              "      <td>1144</td>\n",
              "      <td>10</td>\n",
              "      <td>1</td>\n",
              "      <td>1</td>\n",
              "      <td>1056</td>\n",
              "      <td>4</td>\n",
              "      <td>74</td>\n",
              "      <td>3</td>\n",
              "      <td>1</td>\n",
              "      <td>2</td>\n",
              "      <td>1052</td>\n",
              "      <td>23384</td>\n",
              "      <td>1</td>\n",
              "      <td>22</td>\n",
              "      <td>4</td>\n",
              "      <td>2</td>\n",
              "      <td>80</td>\n",
              "      <td>0</td>\n",
              "      <td>1</td>\n",
              "      <td>5</td>\n",
              "      <td>3</td>\n",
              "      <td>1</td>\n",
              "      <td>0</td>\n",
              "      <td>0</td>\n",
              "      <td>0</td>\n",
              "      <td>0</td>\n",
              "      <td>1</td>\n",
              "      <td>0</td>\n",
              "      <td>1</td>\n",
              "      <td>0</td>\n",
              "      <td>0</td>\n",
              "      <td>1</td>\n",
              "      <td>0</td>\n",
              "      <td>0</td>\n",
              "      <td>1</td>\n",
              "      <td>0</td>\n",
              "      <td>0</td>\n",
              "      <td>0</td>\n",
              "      <td>0</td>\n",
              "      <td>0</td>\n",
              "      <td>0</td>\n",
              "      <td>0</td>\n",
              "      <td>1</td>\n",
              "      <td>1</td>\n",
              "      <td>0</td>\n",
              "      <td>0</td>\n",
              "    </tr>\n",
              "    <tr>\n",
              "      <th>1</th>\n",
              "      <td>32</td>\n",
              "      <td>585</td>\n",
              "      <td>10</td>\n",
              "      <td>3</td>\n",
              "      <td>1</td>\n",
              "      <td>1720</td>\n",
              "      <td>1</td>\n",
              "      <td>56</td>\n",
              "      <td>3</td>\n",
              "      <td>1</td>\n",
              "      <td>3</td>\n",
              "      <td>3433</td>\n",
              "      <td>17360</td>\n",
              "      <td>6</td>\n",
              "      <td>13</td>\n",
              "      <td>3</td>\n",
              "      <td>1</td>\n",
              "      <td>80</td>\n",
              "      <td>1</td>\n",
              "      <td>10</td>\n",
              "      <td>3</td>\n",
              "      <td>2</td>\n",
              "      <td>5</td>\n",
              "      <td>2</td>\n",
              "      <td>1</td>\n",
              "      <td>3</td>\n",
              "      <td>1</td>\n",
              "      <td>0</td>\n",
              "      <td>1</td>\n",
              "      <td>0</td>\n",
              "      <td>1</td>\n",
              "      <td>0</td>\n",
              "      <td>0</td>\n",
              "      <td>0</td>\n",
              "      <td>0</td>\n",
              "      <td>1</td>\n",
              "      <td>0</td>\n",
              "      <td>0</td>\n",
              "      <td>0</td>\n",
              "      <td>0</td>\n",
              "      <td>0</td>\n",
              "      <td>1</td>\n",
              "      <td>0</td>\n",
              "      <td>0</td>\n",
              "      <td>1</td>\n",
              "      <td>0</td>\n",
              "      <td>0</td>\n",
              "    </tr>\n",
              "    <tr>\n",
              "      <th>2</th>\n",
              "      <td>41</td>\n",
              "      <td>1085</td>\n",
              "      <td>2</td>\n",
              "      <td>4</td>\n",
              "      <td>1</td>\n",
              "      <td>927</td>\n",
              "      <td>2</td>\n",
              "      <td>57</td>\n",
              "      <td>1</td>\n",
              "      <td>1</td>\n",
              "      <td>4</td>\n",
              "      <td>2778</td>\n",
              "      <td>17725</td>\n",
              "      <td>4</td>\n",
              "      <td>13</td>\n",
              "      <td>3</td>\n",
              "      <td>3</td>\n",
              "      <td>80</td>\n",
              "      <td>1</td>\n",
              "      <td>10</td>\n",
              "      <td>1</td>\n",
              "      <td>2</td>\n",
              "      <td>7</td>\n",
              "      <td>7</td>\n",
              "      <td>1</td>\n",
              "      <td>0</td>\n",
              "      <td>0</td>\n",
              "      <td>1</td>\n",
              "      <td>1</td>\n",
              "      <td>0</td>\n",
              "      <td>1</td>\n",
              "      <td>0</td>\n",
              "      <td>0</td>\n",
              "      <td>0</td>\n",
              "      <td>0</td>\n",
              "      <td>0</td>\n",
              "      <td>0</td>\n",
              "      <td>1</td>\n",
              "      <td>0</td>\n",
              "      <td>0</td>\n",
              "      <td>0</td>\n",
              "      <td>0</td>\n",
              "      <td>0</td>\n",
              "      <td>0</td>\n",
              "      <td>0</td>\n",
              "      <td>0</td>\n",
              "      <td>1</td>\n",
              "    </tr>\n",
              "    <tr>\n",
              "      <th>3</th>\n",
              "      <td>42</td>\n",
              "      <td>557</td>\n",
              "      <td>18</td>\n",
              "      <td>4</td>\n",
              "      <td>1</td>\n",
              "      <td>1998</td>\n",
              "      <td>4</td>\n",
              "      <td>35</td>\n",
              "      <td>3</td>\n",
              "      <td>2</td>\n",
              "      <td>1</td>\n",
              "      <td>5410</td>\n",
              "      <td>11189</td>\n",
              "      <td>6</td>\n",
              "      <td>17</td>\n",
              "      <td>3</td>\n",
              "      <td>3</td>\n",
              "      <td>80</td>\n",
              "      <td>1</td>\n",
              "      <td>9</td>\n",
              "      <td>3</td>\n",
              "      <td>2</td>\n",
              "      <td>4</td>\n",
              "      <td>3</td>\n",
              "      <td>1</td>\n",
              "      <td>2</td>\n",
              "      <td>0</td>\n",
              "      <td>1</td>\n",
              "      <td>1</td>\n",
              "      <td>0</td>\n",
              "      <td>1</td>\n",
              "      <td>0</td>\n",
              "      <td>0</td>\n",
              "      <td>0</td>\n",
              "      <td>0</td>\n",
              "      <td>1</td>\n",
              "      <td>0</td>\n",
              "      <td>0</td>\n",
              "      <td>0</td>\n",
              "      <td>0</td>\n",
              "      <td>0</td>\n",
              "      <td>1</td>\n",
              "      <td>0</td>\n",
              "      <td>0</td>\n",
              "      <td>0</td>\n",
              "      <td>0</td>\n",
              "      <td>1</td>\n",
              "    </tr>\n",
              "    <tr>\n",
              "      <th>4</th>\n",
              "      <td>41</td>\n",
              "      <td>1018</td>\n",
              "      <td>1</td>\n",
              "      <td>3</td>\n",
              "      <td>1</td>\n",
              "      <td>1349</td>\n",
              "      <td>3</td>\n",
              "      <td>66</td>\n",
              "      <td>3</td>\n",
              "      <td>2</td>\n",
              "      <td>1</td>\n",
              "      <td>4103</td>\n",
              "      <td>4297</td>\n",
              "      <td>0</td>\n",
              "      <td>17</td>\n",
              "      <td>3</td>\n",
              "      <td>4</td>\n",
              "      <td>80</td>\n",
              "      <td>1</td>\n",
              "      <td>10</td>\n",
              "      <td>2</td>\n",
              "      <td>3</td>\n",
              "      <td>9</td>\n",
              "      <td>3</td>\n",
              "      <td>1</td>\n",
              "      <td>7</td>\n",
              "      <td>1</td>\n",
              "      <td>0</td>\n",
              "      <td>0</td>\n",
              "      <td>1</td>\n",
              "      <td>0</td>\n",
              "      <td>1</td>\n",
              "      <td>0</td>\n",
              "      <td>0</td>\n",
              "      <td>0</td>\n",
              "      <td>0</td>\n",
              "      <td>0</td>\n",
              "      <td>0</td>\n",
              "      <td>0</td>\n",
              "      <td>0</td>\n",
              "      <td>0</td>\n",
              "      <td>0</td>\n",
              "      <td>1</td>\n",
              "      <td>0</td>\n",
              "      <td>0</td>\n",
              "      <td>0</td>\n",
              "      <td>0</td>\n",
              "    </tr>\n",
              "  </tbody>\n",
              "</table>\n",
              "</div>\n",
              "      <button class=\"colab-df-convert\" onclick=\"convertToInteractive('df-165b7010-ac9c-4cc1-94ec-d1ae056de017')\"\n",
              "              title=\"Convert this dataframe to an interactive table.\"\n",
              "              style=\"display:none;\">\n",
              "        \n",
              "  <svg xmlns=\"http://www.w3.org/2000/svg\" height=\"24px\"viewBox=\"0 0 24 24\"\n",
              "       width=\"24px\">\n",
              "    <path d=\"M0 0h24v24H0V0z\" fill=\"none\"/>\n",
              "    <path d=\"M18.56 5.44l.94 2.06.94-2.06 2.06-.94-2.06-.94-.94-2.06-.94 2.06-2.06.94zm-11 1L8.5 8.5l.94-2.06 2.06-.94-2.06-.94L8.5 2.5l-.94 2.06-2.06.94zm10 10l.94 2.06.94-2.06 2.06-.94-2.06-.94-.94-2.06-.94 2.06-2.06.94z\"/><path d=\"M17.41 7.96l-1.37-1.37c-.4-.4-.92-.59-1.43-.59-.52 0-1.04.2-1.43.59L10.3 9.45l-7.72 7.72c-.78.78-.78 2.05 0 2.83L4 21.41c.39.39.9.59 1.41.59.51 0 1.02-.2 1.41-.59l7.78-7.78 2.81-2.81c.8-.78.8-2.07 0-2.86zM5.41 20L4 18.59l7.72-7.72 1.47 1.35L5.41 20z\"/>\n",
              "  </svg>\n",
              "      </button>\n",
              "      \n",
              "  <style>\n",
              "    .colab-df-container {\n",
              "      display:flex;\n",
              "      flex-wrap:wrap;\n",
              "      gap: 12px;\n",
              "    }\n",
              "\n",
              "    .colab-df-convert {\n",
              "      background-color: #E8F0FE;\n",
              "      border: none;\n",
              "      border-radius: 50%;\n",
              "      cursor: pointer;\n",
              "      display: none;\n",
              "      fill: #1967D2;\n",
              "      height: 32px;\n",
              "      padding: 0 0 0 0;\n",
              "      width: 32px;\n",
              "    }\n",
              "\n",
              "    .colab-df-convert:hover {\n",
              "      background-color: #E2EBFA;\n",
              "      box-shadow: 0px 1px 2px rgba(60, 64, 67, 0.3), 0px 1px 3px 1px rgba(60, 64, 67, 0.15);\n",
              "      fill: #174EA6;\n",
              "    }\n",
              "\n",
              "    [theme=dark] .colab-df-convert {\n",
              "      background-color: #3B4455;\n",
              "      fill: #D2E3FC;\n",
              "    }\n",
              "\n",
              "    [theme=dark] .colab-df-convert:hover {\n",
              "      background-color: #434B5C;\n",
              "      box-shadow: 0px 1px 3px 1px rgba(0, 0, 0, 0.15);\n",
              "      filter: drop-shadow(0px 1px 2px rgba(0, 0, 0, 0.3));\n",
              "      fill: #FFFFFF;\n",
              "    }\n",
              "  </style>\n",
              "\n",
              "      <script>\n",
              "        const buttonEl =\n",
              "          document.querySelector('#df-165b7010-ac9c-4cc1-94ec-d1ae056de017 button.colab-df-convert');\n",
              "        buttonEl.style.display =\n",
              "          google.colab.kernel.accessAllowed ? 'block' : 'none';\n",
              "\n",
              "        async function convertToInteractive(key) {\n",
              "          const element = document.querySelector('#df-165b7010-ac9c-4cc1-94ec-d1ae056de017');\n",
              "          const dataTable =\n",
              "            await google.colab.kernel.invokeFunction('convertToInteractive',\n",
              "                                                     [key], {});\n",
              "          if (!dataTable) return;\n",
              "\n",
              "          const docLinkHtml = 'Like what you see? Visit the ' +\n",
              "            '<a target=\"_blank\" href=https://colab.research.google.com/notebooks/data_table.ipynb>data table notebook</a>'\n",
              "            + ' to learn more about interactive tables.';\n",
              "          element.innerHTML = '';\n",
              "          dataTable['output_type'] = 'display_data';\n",
              "          await google.colab.output.renderOutput(dataTable, element);\n",
              "          const docLink = document.createElement('div');\n",
              "          docLink.innerHTML = docLinkHtml;\n",
              "          element.appendChild(docLink);\n",
              "        }\n",
              "      </script>\n",
              "    </div>\n",
              "  </div>\n",
              "  "
            ]
          },
          "metadata": {},
          "execution_count": 350
        }
      ]
    },
    {
      "cell_type": "code",
      "source": [
        "test.columns"
      ],
      "metadata": {
        "colab": {
          "base_uri": "https://localhost:8080/"
        },
        "id": "znkLIT0lEvjf",
        "outputId": "f6fe0d69-ea5b-429f-9be8-d870ae181f8e"
      },
      "execution_count": null,
      "outputs": [
        {
          "output_type": "execute_result",
          "data": {
            "text/plain": [
              "Index(['age', 'dailyrate', 'distancefromhome', 'education', 'employeecount',\n",
              "       'employeenumber', 'environmentsatisfaction', 'hourlyrate',\n",
              "       'jobinvolvement', 'joblevel', 'jobsatisfaction', 'monthlyincome',\n",
              "       'monthlyrate', 'numcompaniesworked', 'percentsalaryhike',\n",
              "       'performancerating', 'relationshipsatisfaction', 'standardhours',\n",
              "       'stockoptionlevel', 'totalworkingyears', 'trainingtimeslastyear',\n",
              "       'worklifebalance', 'yearsatcompany', 'yearsincurrentrole',\n",
              "       'yearssincelastpromotion', 'yearswithcurrmanager',\n",
              "       'businesstravel_Travel_Frequently', 'businesstravel_Travel_Rarely',\n",
              "       'department_Research & Development', 'department_Sales',\n",
              "       'educationfield_Life Sciences', 'educationfield_Marketing',\n",
              "       'educationfield_Medical', 'educationfield_Other',\n",
              "       'educationfield_Technical Degree', 'gender_Male',\n",
              "       'jobrole_Human Resources', 'jobrole_Laboratory Technician',\n",
              "       'jobrole_Manager', 'jobrole_Manufacturing Director',\n",
              "       'jobrole_Research Director', 'jobrole_Research Scientist',\n",
              "       'jobrole_Sales Executive', 'jobrole_Sales Representative',\n",
              "       'maritalstatus_Married', 'maritalstatus_Single', 'overtime_Yes'],\n",
              "      dtype='object')"
            ]
          },
          "metadata": {},
          "execution_count": 352
        }
      ]
    },
    {
      "cell_type": "code",
      "source": [
        "test = test.drop([\"employeecount\",\"standardhours\"], axis=1)"
      ],
      "metadata": {
        "id": "qVuK7mP_Er-G"
      },
      "execution_count": null,
      "outputs": []
    },
    {
      "cell_type": "markdown",
      "source": [
        "Optional: \n",
        "Use `Hyperopt`, a hyperparameter tuning technique to identify the best set of parameters. \n",
        "\n",
        "Refer to the Additional Notebook: CatBoost parameter tuning (CDS-B4 GDrive -> Module 2 -> Assignments -> Aug 13)"
      ],
      "metadata": {
        "id": "apS4f8aqWG71"
      }
    },
    {
      "cell_type": "markdown",
      "source": [
        "In the notebook, data processing is done separately for different models.\n",
        "Considering the fact that different models may require data in different format and in turn different processes may be followed to process the data.\n",
        "\n",
        "If the processing steps followed for the models are same, data processing can also be done once."
      ],
      "metadata": {
        "id": "j-ZPcVcn9w3U"
      }
    },
    {
      "cell_type": "markdown",
      "source": [
        "## Apply CatBoost\n",
        "\n",
        "Catboost was released in 2017 by Yandex, showing, by their benchmark to be faster in prediction, better in accuracy, and easier to use for categorical data across a series of GBDT tasks. Additional capabilities of catboost include plotting feature interactions and object (row) importance. \n",
        "\n",
        "[Here](https://catboost.ai/en/docs/) is the official documentation of CatBoost"
      ],
      "metadata": {
        "_uuid": "63f0a5564f30228e710a3c1b7f7914bd986b93f1",
        "id": "5ccGpKffCEVt"
      }
    },
    {
      "cell_type": "markdown",
      "source": [
        "### Data Processing for CatBoost"
      ],
      "metadata": {
        "id": "7d7v3VlYQXGY"
      }
    },
    {
      "cell_type": "markdown",
      "source": [
        "**Exercise 8: Data processing for CatBoost [1 Mark]**\n",
        "* **Copy the dataframe that was created after removing the outliers**\n",
        "* **Handle the categorical features if required**\n",
        "* **Create target column and feature space**"
      ],
      "metadata": {
        "id": "45hA2ZB9tHGW"
      }
    },
    {
      "cell_type": "markdown",
      "source": [
        "**Hint:** Column containing the information on attrition will be the target column."
      ],
      "metadata": {
        "id": "plxqVIWHt_9M"
      }
    },
    {
      "cell_type": "markdown",
      "source": [
        "### Model Definition"
      ],
      "metadata": {
        "id": "s0Z0cbeS4BrT"
      }
    },
    {
      "cell_type": "markdown",
      "source": [
        "**Exercise 9: Define, train the model and display the results [2 Mark]**"
      ],
      "metadata": {
        "id": "Bphb_wNwupwi"
      }
    },
    {
      "cell_type": "markdown",
      "source": [
        "**Hint:** \n",
        "* Use CatBoostClassifier() to define the model with relevant parameters.\n",
        "* Use `fit` to fit the data to the model. Refer [here](https://catboost.ai/en/docs/concepts/speed-up-training) to see some ways to speedup CatBoost training.\n",
        "* Evaluate the model using roc_auc_score, accuracy_score, f1_score, predict methods or other relevant techniques."
      ],
      "metadata": {
        "id": "K2e980Yyu3oJ"
      }
    },
    {
      "cell_type": "code",
      "source": [
        "# Create CatBoost model\n",
        "# YOUR CODE HERE\n",
        "class_weights = dict({0:1, 1:5})\n",
        "CatBoost_clf = CatBoostClassifier(iterations=10,\n",
        "                                  learning_rate=0.1,\n",
        "                                  class_weights= class_weights,\n",
        "                                  eval_metric= \"Recall\",\n",
        "                                  #loss_function='CrossEntropy'\n",
        "                                  )"
      ],
      "metadata": {
        "id": "kIMPGCfMDIZR"
      },
      "execution_count": null,
      "outputs": []
    },
    {
      "cell_type": "code",
      "source": [
        "# Model training\n",
        "# YOUR CODE HERE\n",
        "CatBoost_clf.fit(X_train, y_train,\n",
        "                 #cat_features=cat_features,\n",
        "                 verbose = False)"
      ],
      "metadata": {
        "id": "nkRYWmGfDMu-",
        "colab": {
          "base_uri": "https://localhost:8080/"
        },
        "outputId": "0a67fd98-c989-40e1-b498-5cc37e1e5ee8"
      },
      "execution_count": null,
      "outputs": [
        {
          "output_type": "execute_result",
          "data": {
            "text/plain": [
              "<catboost.core.CatBoostClassifier at 0x7f2fd1c09450>"
            ]
          },
          "metadata": {},
          "execution_count": 366
        }
      ]
    },
    {
      "cell_type": "markdown",
      "source": [
        "### Model performance"
      ],
      "metadata": {
        "id": "stov-GDTGrOw"
      }
    },
    {
      "cell_type": "code",
      "source": [
        "# Model performance on all sets\n",
        "# YOUR CODE HERE   \n",
        "cbr_prediction = CatBoost_clf.predict(test)\n",
        "#print('Accuracy Score: ', accuracy_score(y_test, cbr_prediction))\n",
        "print(cbr_prediction)\n"
      ],
      "metadata": {
        "id": "1k6sOOU-FNs7",
        "colab": {
          "base_uri": "https://localhost:8080/"
        },
        "outputId": "fdfac536-8b58-4c5b-964b-858e0834a4cd"
      },
      "execution_count": null,
      "outputs": [
        {
          "output_type": "stream",
          "name": "stdout",
          "text": [
            "[1 0 1 1 0 1 0 1 0 0 0 1 1 0 0 1 0 0 1 0 1 0 0 0 0 1 1 1 0 0 0 1 0 0 0 0 0\n",
            " 0 0 1 1 0 0 0 1 0 0 0 1 1 1 1 0 0 0 0 0 0 1 0 1 0 0 0 0 0 1 0 1 0 0 0 1 0\n",
            " 0 1 0 0 1 1 1 1 0 0 0 0 1 0 0 0 0 0 0 0 0 1 0 1 1 1 0 0 0 0 0 0 0 0 0 0 1\n",
            " 1 0 1 0 1 1 0 0 0 0 0 0 0 0 0 0 1 0 0 0 1 0 0 0 0 0 0 0 0 0 0 0 0 0 1 0 0\n",
            " 0 1 0 0 0 0 0 0 0 0 0 0 0 1 1 0 1 1 0 1 0 1 0 0 0 0 0 1 0 0 0 0 0 0 0 0 1\n",
            " 0 0 1 0 0 0 0 0 1 0 1 1 0 0 0 0 1 0 0 0 0 0 1 0 0 0 0 1 0 0 0 0 0 0 0 0 0\n",
            " 1 0 0 0 0 1 0 0 0 0 0 0 1 1 0 0 0 1 0 0 0 0 0 1 0 1 0 1 0 1 0 0 0 0 0 0 0\n",
            " 0 0 1 0 1 0 0 0 0 0 0 0 0 1 0 1 0 0 0 0 0 0 0 0 0 0 0 0 1 1 0 0 0 0 1 0 0\n",
            " 0 0 0 0]\n"
          ]
        }
      ]
    },
    {
      "cell_type": "code",
      "source": [
        "submit = pd.DataFrame(cbr_prediction, columns = ['label'])\n",
        "submit.index = range(1,len(submit)+1)\n",
        "submit.reset_index (inplace = True)\n",
        "submit.rename(columns = {'index' : 'id'}, inplace = True)\n",
        "submit.to_csv('submit_cat_dropped.csv', index = False)"
      ],
      "metadata": {
        "id": "_BRUBSMY1KWe"
      },
      "execution_count": null,
      "outputs": []
    },
    {
      "cell_type": "markdown",
      "source": [
        "## Apply XGBoost\n",
        "\n",
        "XGBoost is a workhorse gradient boosted decision tree algorithm. Its been around since 2014 and has come to dominate the Kaggle and data science community. XGB introduced gradient boosting where new models are fit to the residuals of prior models and then added together, using a gradient descent algorithm to minimize the loss. \n",
        "\n",
        "Read [here](https://xgboost.readthedocs.io/en/stable/parameter.html) on XGBoost parameters.\n",
        "\n",
        "Refer [here](https://xgboost.readthedocs.io/en/stable/python/python_api.html#xgboost.XGBClassifier) for the official documentation of XGBoost classifier."
      ],
      "metadata": {
        "id": "_hk4Kw5QGXCU"
      }
    },
    {
      "cell_type": "markdown",
      "source": [
        "### Data Processing for XGBoost\n"
      ],
      "metadata": {
        "id": "3KbfDzqudx5H"
      }
    },
    {
      "cell_type": "markdown",
      "source": [
        "**Exercise 10: Data Processing for XGBoost [1 Mark]**\n",
        "* **Copy the dataframe after the outliers were removed.**\n",
        "* **Handle the categorical features if required**\n",
        "* **Create target column and feature space**"
      ],
      "metadata": {
        "id": "Yk6NedArvxbn"
      }
    },
    {
      "cell_type": "markdown",
      "source": [
        "**Hint:** Use pd.get_dummies"
      ],
      "metadata": {
        "id": "jeTPMeNlwP2e"
      }
    },
    {
      "cell_type": "code",
      "source": [
        "#!pip -qq install hyperopt"
      ],
      "metadata": {
        "id": "UKodWuNS3shU"
      },
      "execution_count": null,
      "outputs": []
    },
    {
      "cell_type": "code",
      "source": [
        "#gridsearch \n",
        "params = {\n",
        "        'learning_rate' : [.001, 0.02, 0.05, .1],\n",
        "        'min_child_weight': [1, 5, 10],\n",
        "        'gamma': [0.5, 1, 1.5, 2, 5],\n",
        "        'subsample': [0.6, 0.8, 1.0],\n",
        "        'colsample_bytree': [0.6, 0.8, 1.0],\n",
        "        'max_depth': [3, 4, 5]\n",
        "        }\n"
      ],
      "metadata": {
        "id": "Iq3dxMEH4WS_"
      },
      "execution_count": null,
      "outputs": []
    },
    {
      "cell_type": "code",
      "source": [
        "xgb = XGBClassifier(n_estimators=600, objective='binary:logistic',\n",
        "                    silent=True, nthread=1)"
      ],
      "metadata": {
        "id": "OC6RHwFC8PDG"
      },
      "execution_count": null,
      "outputs": []
    },
    {
      "cell_type": "code",
      "source": [
        "from sklearn.model_selection import RandomizedSearchCV, GridSearchCV,StratifiedKFold\n"
      ],
      "metadata": {
        "id": "rC_6NyzO8uMT"
      },
      "execution_count": null,
      "outputs": []
    },
    {
      "cell_type": "code",
      "source": [
        "\n",
        "folds = 3\n",
        "param_comb = 5\n",
        "\n",
        "skf = StratifiedKFold(n_splits=folds, shuffle = True, random_state = 1001)\n",
        "\n",
        "random_search = RandomizedSearchCV(xgb, param_distributions=params, n_iter=param_comb, scoring='roc_auc', n_jobs=4, cv=skf.split(X_train,y_train), verbose=3, random_state=1001 )\n",
        "\n",
        "# Here we go\n",
        "\n",
        "random_search.fit(X_train, y_train)\n"
      ],
      "metadata": {
        "colab": {
          "base_uri": "https://localhost:8080/"
        },
        "id": "oiDAQN2r8PFs",
        "outputId": "302cc84f-0d6b-4363-bf78-27e592a047ac"
      },
      "execution_count": null,
      "outputs": [
        {
          "output_type": "stream",
          "name": "stdout",
          "text": [
            "Fitting 3 folds for each of 5 candidates, totalling 15 fits\n"
          ]
        },
        {
          "output_type": "execute_result",
          "data": {
            "text/plain": [
              "RandomizedSearchCV(cv=<generator object _BaseKFold.split at 0x7f2fd1ba2e50>,\n",
              "                   estimator=XGBClassifier(n_estimators=600, nthread=1,\n",
              "                                           silent=True),\n",
              "                   n_iter=5, n_jobs=4,\n",
              "                   param_distributions={'colsample_bytree': [0.6, 0.8, 1.0],\n",
              "                                        'gamma': [0.5, 1, 1.5, 2, 5],\n",
              "                                        'learning_rate': [0.001, 0.02, 0.05,\n",
              "                                                          0.1],\n",
              "                                        'max_depth': [3, 4, 5],\n",
              "                                        'min_child_weight': [1, 5, 10],\n",
              "                                        'subsample': [0.6, 0.8, 1.0]},\n",
              "                   random_state=1001, scoring='roc_auc', verbose=3)"
            ]
          },
          "metadata": {},
          "execution_count": 357
        }
      ]
    },
    {
      "cell_type": "code",
      "source": [
        "print('\\n All results:')\n",
        "print(random_search.cv_results_)\n",
        "print('\\n Best estimator:')\n",
        "print(random_search.best_estimator_)\n",
        "print('\\n Best normalized gini score for %d-fold search with %d parameter combinations:' % (folds, param_comb))\n",
        "print(random_search.best_score_ * 2 - 1)\n",
        "print('\\n Best hyperparameters:')\n",
        "print(random_search.best_params_)\n",
        "#results = pd.DataFrame(random_search.cv_results_)\n",
        "#results.to_csv('xgb-random-grid-search-results-01.csv', index=False)"
      ],
      "metadata": {
        "colab": {
          "base_uri": "https://localhost:8080/"
        },
        "id": "5371Bwu44WWX",
        "outputId": "9661fc8e-990a-4598-80b7-2b929500b04c"
      },
      "execution_count": null,
      "outputs": [
        {
          "output_type": "stream",
          "name": "stdout",
          "text": [
            "\n",
            " All results:\n",
            "{'mean_fit_time': array([3.39375544, 2.54321488, 3.09234428, 1.82259091, 1.91529695]), 'std_fit_time': array([0.03555097, 0.477268  , 0.03964884, 0.02039399, 0.21734251]), 'mean_score_time': array([0.10244727, 0.04906289, 0.02994482, 0.02107596, 0.01125129]), 'std_score_time': array([0.00841627, 0.02897508, 0.00471392, 0.00278019, 0.00705944]), 'param_subsample': masked_array(data=[0.8, 1.0, 0.8, 0.8, 1.0],\n",
            "             mask=[False, False, False, False, False],\n",
            "       fill_value='?',\n",
            "            dtype=object), 'param_min_child_weight': masked_array(data=[5, 5, 10, 10, 1],\n",
            "             mask=[False, False, False, False, False],\n",
            "       fill_value='?',\n",
            "            dtype=object), 'param_max_depth': masked_array(data=[4, 4, 5, 4, 4],\n",
            "             mask=[False, False, False, False, False],\n",
            "       fill_value='?',\n",
            "            dtype=object), 'param_learning_rate': masked_array(data=[0.001, 0.02, 0.001, 0.05, 0.02],\n",
            "             mask=[False, False, False, False, False],\n",
            "       fill_value='?',\n",
            "            dtype=object), 'param_gamma': masked_array(data=[2, 2, 1, 1.5, 5],\n",
            "             mask=[False, False, False, False, False],\n",
            "       fill_value='?',\n",
            "            dtype=object), 'param_colsample_bytree': masked_array(data=[0.8, 0.8, 1.0, 0.6, 1.0],\n",
            "             mask=[False, False, False, False, False],\n",
            "       fill_value='?',\n",
            "            dtype=object), 'params': [{'subsample': 0.8, 'min_child_weight': 5, 'max_depth': 4, 'learning_rate': 0.001, 'gamma': 2, 'colsample_bytree': 0.8}, {'subsample': 1.0, 'min_child_weight': 5, 'max_depth': 4, 'learning_rate': 0.02, 'gamma': 2, 'colsample_bytree': 0.8}, {'subsample': 0.8, 'min_child_weight': 10, 'max_depth': 5, 'learning_rate': 0.001, 'gamma': 1, 'colsample_bytree': 1.0}, {'subsample': 0.8, 'min_child_weight': 10, 'max_depth': 4, 'learning_rate': 0.05, 'gamma': 1.5, 'colsample_bytree': 0.6}, {'subsample': 1.0, 'min_child_weight': 1, 'max_depth': 4, 'learning_rate': 0.02, 'gamma': 5, 'colsample_bytree': 1.0}], 'split0_test_score': array([0.75491481, 0.8193777 , 0.73122664, 0.84500752, 0.77505946]), 'split1_test_score': array([0.79738848, 0.80729091, 0.7843794 , 0.79981554, 0.79578661]), 'split2_test_score': array([0.82117373, 0.83714383, 0.81156255, 0.84675501, 0.82792097]), 'mean_test_score': array([0.79115901, 0.82127081, 0.77572286, 0.83052603, 0.79958902]), 'std_test_score': array([0.0274064 , 0.0122607 , 0.03336332, 0.02172731, 0.02174747]), 'rank_test_score': array([4, 2, 5, 1, 3], dtype=int32)}\n",
            "\n",
            " Best estimator:\n",
            "XGBClassifier(colsample_bytree=0.6, gamma=1.5, learning_rate=0.05, max_depth=4,\n",
            "              min_child_weight=10, n_estimators=600, nthread=1, silent=True,\n",
            "              subsample=0.8)\n",
            "\n",
            " Best normalized gini score for 3-fold search with 5 parameter combinations:\n",
            "0.6610520524893613\n",
            "\n",
            " Best hyperparameters:\n",
            "{'subsample': 0.8, 'min_child_weight': 10, 'max_depth': 4, 'learning_rate': 0.05, 'gamma': 1.5, 'colsample_bytree': 0.6}\n"
          ]
        }
      ]
    },
    {
      "cell_type": "markdown",
      "source": [
        "When creating the dummy variables, the name of attrition column was changed, rename to 'attrition' again."
      ],
      "metadata": {
        "id": "usRVCrd5wkC1"
      }
    },
    {
      "cell_type": "markdown",
      "source": [
        "**Hint:** Use .rename"
      ],
      "metadata": {
        "id": "OnyrNF9Fw2eS"
      }
    },
    {
      "cell_type": "code",
      "source": [
        "# Rename target column\n",
        "# YOUR CODE HERE "
      ],
      "metadata": {
        "id": "sCkr7gvLXxLs"
      },
      "execution_count": null,
      "outputs": []
    },
    {
      "cell_type": "code",
      "source": [
        "# Feature Space\n",
        "# YOUR CODE HERE\n",
        "\n",
        "# Targer label\n",
        "# YOUR CODE HERE"
      ],
      "metadata": {
        "id": "SA-WIpLAX3KH"
      },
      "execution_count": null,
      "outputs": []
    },
    {
      "cell_type": "markdown",
      "source": [
        "### Model Definition"
      ],
      "metadata": {
        "id": "ccLyB9J04hDF"
      }
    },
    {
      "cell_type": "markdown",
      "source": [
        "**Exercise 11: Define, train the model and display the results [2 Mark]**"
      ],
      "metadata": {
        "id": "JPinBk5NxRpt"
      }
    },
    {
      "cell_type": "markdown",
      "source": [
        "**Hint:** \n",
        "* Use XGBClassifier() to define the model with relevant parameters.\n",
        "* Use `fit` to fit the data to the model.\n",
        "* Evaluate the model using roc_auc_score, accuracy_score, f1_score, predict methods or other relevant techniques."
      ],
      "metadata": {
        "id": "-LFyiv0Mxcl-"
      }
    },
    {
      "cell_type": "code",
      "source": [
        "# Create XGBoost classifier model\n",
        "# YOUR CODE HERE\n",
        "XGB_clf = XGBClassifier(colsample_bytree=0.6, gamma=1.5, learning_rate=0.05, max_depth=4,\n",
        "              min_child_weight=10, n_estimators=600, nthread=1, silent=True,\n",
        "              subsample=0.8)"
      ],
      "metadata": {
        "id": "nxtvfYpzVxTc"
      },
      "execution_count": null,
      "outputs": []
    },
    {
      "cell_type": "code",
      "source": [
        "# Model training\n",
        "# YOUR CODE HERE\n",
        "XGB_clf.fit(X_train, y_train,\n",
        "            verbose = False)"
      ],
      "metadata": {
        "id": "hrN85N3X_Sar",
        "colab": {
          "base_uri": "https://localhost:8080/"
        },
        "outputId": "98c6d922-5d3b-452d-a433-b259469c9215"
      },
      "execution_count": null,
      "outputs": [
        {
          "output_type": "execute_result",
          "data": {
            "text/plain": [
              "XGBClassifier(colsample_bytree=0.6, gamma=1.5, learning_rate=0.05, max_depth=4,\n",
              "              min_child_weight=10, n_estimators=600, nthread=1, silent=True,\n",
              "              subsample=0.8)"
            ]
          },
          "metadata": {},
          "execution_count": 360
        }
      ]
    },
    {
      "cell_type": "markdown",
      "source": [
        "### Model Performance"
      ],
      "metadata": {
        "id": "cA5ZK31mPox1"
      }
    },
    {
      "cell_type": "code",
      "source": [
        "# Model performance on all sets\n",
        "# YOUR CODE HERE   \n",
        "XGB_prediction = XGB_clf.predict(test)\n",
        "#print('Accuracy Score: ', accuracy_score(y_test, XGB_prediction))\n"
      ],
      "metadata": {
        "id": "wQXg9FhcmwIw"
      },
      "execution_count": null,
      "outputs": []
    },
    {
      "cell_type": "code",
      "source": [
        "print(XGB_prediction)"
      ],
      "metadata": {
        "colab": {
          "base_uri": "https://localhost:8080/"
        },
        "id": "tQ58BK4FuLZM",
        "outputId": "91209674-32e4-44f3-bc73-d359e7f3713a"
      },
      "execution_count": null,
      "outputs": [
        {
          "output_type": "stream",
          "name": "stdout",
          "text": [
            "[0 0 0 0 0 0 0 0 0 0 0 1 1 0 0 0 0 0 0 0 0 0 0 0 0 0 0 1 0 0 0 0 0 0 0 0 0\n",
            " 0 0 1 0 0 0 0 0 0 0 0 0 1 1 0 0 0 0 0 0 0 0 0 1 0 0 0 0 0 0 0 0 0 0 0 1 0\n",
            " 0 1 0 0 0 0 0 1 0 0 0 0 0 0 0 0 0 0 0 0 0 1 0 0 1 1 0 0 0 0 0 0 0 0 0 0 0\n",
            " 0 0 0 0 0 0 0 0 0 0 0 0 0 0 0 0 0 0 0 0 1 0 0 0 0 0 0 0 0 0 0 0 0 0 0 0 0\n",
            " 0 0 0 0 0 0 0 0 0 0 0 0 0 1 0 0 0 0 0 0 0 0 0 0 0 0 0 0 0 0 0 0 0 0 0 0 0\n",
            " 0 0 0 0 0 0 0 0 0 0 1 0 1 0 0 0 0 0 0 0 0 0 1 0 0 0 0 0 0 0 0 0 0 0 0 0 0\n",
            " 0 0 0 0 0 1 0 0 0 0 0 0 0 0 0 0 0 0 0 0 0 0 0 1 0 0 0 0 0 1 0 0 0 0 0 0 0\n",
            " 0 0 0 0 0 0 0 0 0 0 0 0 0 0 0 1 0 0 0 0 0 0 0 0 0 0 0 0 0 1 0 0 0 0 0 0 0\n",
            " 0 0 0 0]\n"
          ]
        }
      ]
    },
    {
      "cell_type": "code",
      "source": [
        "submit = pd.DataFrame(XGB_prediction, columns = ['label'])\n",
        "submit.index = range(1,len(submit)+1)\n",
        "submit.reset_index (inplace = True)\n",
        "submit.rename(columns = {'index' : 'id'}, inplace = True)"
      ],
      "metadata": {
        "id": "tAWuz4hVuRal"
      },
      "execution_count": null,
      "outputs": []
    },
    {
      "cell_type": "code",
      "source": [
        "# submit.rename(columns = {'index' : 'id'}, inplace = True)"
      ],
      "metadata": {
        "id": "QjpsQkXUySWr"
      },
      "execution_count": null,
      "outputs": []
    },
    {
      "cell_type": "code",
      "source": [
        "submit.to_csv('submit_XGB_dropped.csv', index = False)"
      ],
      "metadata": {
        "id": "lErSiV9Juupq"
      },
      "execution_count": null,
      "outputs": []
    },
    {
      "cell_type": "code",
      "source": [
        "# print('Classification Report for XGBoost:')\n",
        "# print(classification_report(y_test, XGB_prediction))"
      ],
      "metadata": {
        "colab": {
          "base_uri": "https://localhost:8080/"
        },
        "id": "TdKVsqyk3QVe",
        "outputId": "f19a1cd5-88fc-432d-eeae-3f2c7f231c63"
      },
      "execution_count": null,
      "outputs": [
        {
          "output_type": "stream",
          "name": "stdout",
          "text": [
            "Classification Report for XGBoost:\n",
            "              precision    recall  f1-score   support\n",
            "\n",
            "           0       0.88      0.97      0.92       130\n",
            "           1       0.69      0.35      0.46        26\n",
            "\n",
            "    accuracy                           0.87       156\n",
            "   macro avg       0.79      0.66      0.69       156\n",
            "weighted avg       0.85      0.87      0.85       156\n",
            "\n"
          ]
        }
      ]
    },
    {
      "cell_type": "markdown",
      "source": [
        "## Apply LightGBM (Optional)\n",
        "\n",
        "LightGBM is an open-source GBDT framework created by Microsoft as a fast and scalable alternative to XGB and GBM. By default LightGBM will train a Gradient Boosted Decision Tree (GBDT), but it also supports random forests, Dropouts meet Multiple Additive Regression Trees (DART), and Gradient Based One-Side Sampling (Goss). \n",
        "\n",
        "To know more about LightGBM parameters, refer [here](https://lightgbm.readthedocs.io/en/latest/pythonapi/lightgbm.LGBMClassifier.html#lightgbm.LGBMClassifier)."
      ],
      "metadata": {
        "_uuid": "d1aa61b46b4cc4966124e75394f6f5a1e585f3cc",
        "id": "8Iki__IJCEVs"
      }
    },
    {
      "cell_type": "markdown",
      "source": [
        "### Feature Engineering for LightGBM"
      ],
      "metadata": {
        "id": "QGVwrT59tEx_"
      }
    },
    {
      "cell_type": "code",
      "source": [
        "LGBM_clf = LGBMClassifier(colsample_bytree=0.6, gamma=1.5, learning_rate=0.05, max_depth=4,\n",
        "              min_child_weight=10, n_estimators=600, nthread=1, silent=True,\n",
        "              subsample=0.8)"
      ],
      "metadata": {
        "id": "eYq9Z02Bs4-x"
      },
      "execution_count": null,
      "outputs": []
    },
    {
      "cell_type": "code",
      "source": [
        "# Fit on training set\n",
        "LGBM_clf.fit(X_train, y_train,\n",
        "             verbose = False)"
      ],
      "metadata": {
        "colab": {
          "base_uri": "https://localhost:8080/"
        },
        "id": "qKmMNFbs2Koj",
        "outputId": "a4438a70-ce1d-4d8a-8989-15c42eccd6d7"
      },
      "execution_count": null,
      "outputs": [
        {
          "output_type": "execute_result",
          "data": {
            "text/plain": [
              "LGBMClassifier(colsample_bytree=0.6, gamma=1.5, learning_rate=0.05, max_depth=4,\n",
              "               min_child_weight=10, n_estimators=600, nthread=1, subsample=0.8)"
            ]
          },
          "metadata": {},
          "execution_count": 370
        }
      ]
    },
    {
      "cell_type": "code",
      "source": [
        "LGBM_prediction = LGBM_clf.predict(test)\n"
      ],
      "metadata": {
        "id": "UKubTAyl2QIt"
      },
      "execution_count": null,
      "outputs": []
    },
    {
      "cell_type": "code",
      "source": [
        "submit = pd.DataFrame(LGBM_prediction, columns = ['label'])\n",
        "submit.index = range(1,len(submit)+1)\n",
        "submit.reset_index (inplace = True)\n",
        "submit.rename(columns = {'index' : 'id'}, inplace = True)\n",
        "submit.to_csv('submitLGBM_tuned.csv', index = False)"
      ],
      "metadata": {
        "id": "ICfkPN8A5xxT"
      },
      "execution_count": null,
      "outputs": []
    },
    {
      "cell_type": "markdown",
      "source": [
        "### Model Definition"
      ],
      "metadata": {
        "id": "HNxN3-gU4ZWn"
      }
    },
    {
      "cell_type": "markdown",
      "source": [
        "**Hint:** \n",
        "* Use LGBMClassifier() to define the model with relevant parameters.\n",
        "* Use `fit` to fit the data to the model.\n",
        "* Evaluate the model using roc_auc_score, accuracy_score, f1_score, predict methods or other relevant techniques."
      ],
      "metadata": {
        "id": "lrZlE4IJydou"
      }
    },
    {
      "cell_type": "code",
      "source": [
        "# Create LightGBM classifier model\n",
        "# YOUR CODE HERE "
      ],
      "metadata": {
        "id": "4fWl23dHXHAP"
      },
      "execution_count": null,
      "outputs": []
    },
    {
      "cell_type": "code",
      "source": [
        "# Model training\n",
        "# YOUR CODE HERE"
      ],
      "metadata": {
        "id": "5FktD02ntN1T"
      },
      "execution_count": null,
      "outputs": []
    },
    {
      "cell_type": "markdown",
      "source": [
        "### Model performance"
      ],
      "metadata": {
        "id": "upM6hxP_SbPw"
      }
    },
    {
      "cell_type": "code",
      "source": [
        "# Model performance on all sets\n",
        "# YOUR CODE HERE"
      ],
      "metadata": {
        "id": "mmM2WvTGSd_l"
      },
      "execution_count": null,
      "outputs": []
    },
    {
      "cell_type": "markdown",
      "source": [
        "## Results "
      ],
      "metadata": {
        "_uuid": "33789095f30bba0c1ae0d9c5c78207ba4014800b",
        "id": "18zLjk0qCEVu"
      }
    },
    {
      "cell_type": "markdown",
      "source": [
        "**Exercise 12: Create a dataframe of XGBoost results and CatBoost results and display them [0.5 Mark]**"
      ],
      "metadata": {
        "id": "2eQwUXGgy78m"
      }
    },
    {
      "cell_type": "markdown",
      "source": [
        "**Hint:** Use pd.DataFrame"
      ],
      "metadata": {
        "id": "nWQkWdRmzQ6n"
      }
    },
    {
      "cell_type": "code",
      "source": [
        "# Create a dataframe for computed metrics for different models\n",
        "# YOUR CODE HERE\n",
        "cat_pred  = pd.read_csv('/content/submit_cat_dropped.csv')\n",
        "xgb_pred = pd.read_csv('/content/submit_XGB_dropped.csv')"
      ],
      "metadata": {
        "_uuid": "8c99bac7c8c6302c2d2fb6e00f1f17453d972265",
        "trusted": true,
        "id": "qFGMmqS-CEVu"
      },
      "execution_count": null,
      "outputs": []
    },
    {
      "cell_type": "code",
      "source": [
        "xgb_pred.rename(columns = {'label':'xgb_label'},inplace = True)"
      ],
      "metadata": {
        "id": "rVyMisouIuud"
      },
      "execution_count": null,
      "outputs": []
    },
    {
      "cell_type": "code",
      "source": [
        "xgb_pred.columns"
      ],
      "metadata": {
        "colab": {
          "base_uri": "https://localhost:8080/"
        },
        "id": "2JtNYNCcJdqo",
        "outputId": "21e82211-d2ae-4aeb-e60e-569a16fe238d"
      },
      "execution_count": null,
      "outputs": [
        {
          "output_type": "execute_result",
          "data": {
            "text/plain": [
              "Index(['id', 'xgb_label'], dtype='object')"
            ]
          },
          "metadata": {},
          "execution_count": 385
        }
      ]
    },
    {
      "cell_type": "code",
      "source": [
        "pd.concat([cat_pred, xgb_pred], axis = 1)"
      ],
      "metadata": {
        "colab": {
          "base_uri": "https://localhost:8080/",
          "height": 424
        },
        "id": "RB6q2tqxHvdX",
        "outputId": "f67de612-870b-4770-9773-431dcf067d09"
      },
      "execution_count": null,
      "outputs": [
        {
          "output_type": "execute_result",
          "data": {
            "text/plain": [
              "      id  label   id  xgb_label\n",
              "0      1      1    1          0\n",
              "1      2      0    2          0\n",
              "2      3      1    3          0\n",
              "3      4      1    4          0\n",
              "4      5      0    5          0\n",
              "..   ...    ...  ...        ...\n",
              "295  296      0  296          0\n",
              "296  297      0  297          0\n",
              "297  298      0  298          0\n",
              "298  299      0  299          0\n",
              "299  300      0  300          0\n",
              "\n",
              "[300 rows x 4 columns]"
            ],
            "text/html": [
              "\n",
              "  <div id=\"df-89bbc99e-3ad1-4852-9d7d-e646b750db40\">\n",
              "    <div class=\"colab-df-container\">\n",
              "      <div>\n",
              "<style scoped>\n",
              "    .dataframe tbody tr th:only-of-type {\n",
              "        vertical-align: middle;\n",
              "    }\n",
              "\n",
              "    .dataframe tbody tr th {\n",
              "        vertical-align: top;\n",
              "    }\n",
              "\n",
              "    .dataframe thead th {\n",
              "        text-align: right;\n",
              "    }\n",
              "</style>\n",
              "<table border=\"1\" class=\"dataframe\">\n",
              "  <thead>\n",
              "    <tr style=\"text-align: right;\">\n",
              "      <th></th>\n",
              "      <th>id</th>\n",
              "      <th>label</th>\n",
              "      <th>id</th>\n",
              "      <th>xgb_label</th>\n",
              "    </tr>\n",
              "  </thead>\n",
              "  <tbody>\n",
              "    <tr>\n",
              "      <th>0</th>\n",
              "      <td>1</td>\n",
              "      <td>1</td>\n",
              "      <td>1</td>\n",
              "      <td>0</td>\n",
              "    </tr>\n",
              "    <tr>\n",
              "      <th>1</th>\n",
              "      <td>2</td>\n",
              "      <td>0</td>\n",
              "      <td>2</td>\n",
              "      <td>0</td>\n",
              "    </tr>\n",
              "    <tr>\n",
              "      <th>2</th>\n",
              "      <td>3</td>\n",
              "      <td>1</td>\n",
              "      <td>3</td>\n",
              "      <td>0</td>\n",
              "    </tr>\n",
              "    <tr>\n",
              "      <th>3</th>\n",
              "      <td>4</td>\n",
              "      <td>1</td>\n",
              "      <td>4</td>\n",
              "      <td>0</td>\n",
              "    </tr>\n",
              "    <tr>\n",
              "      <th>4</th>\n",
              "      <td>5</td>\n",
              "      <td>0</td>\n",
              "      <td>5</td>\n",
              "      <td>0</td>\n",
              "    </tr>\n",
              "    <tr>\n",
              "      <th>...</th>\n",
              "      <td>...</td>\n",
              "      <td>...</td>\n",
              "      <td>...</td>\n",
              "      <td>...</td>\n",
              "    </tr>\n",
              "    <tr>\n",
              "      <th>295</th>\n",
              "      <td>296</td>\n",
              "      <td>0</td>\n",
              "      <td>296</td>\n",
              "      <td>0</td>\n",
              "    </tr>\n",
              "    <tr>\n",
              "      <th>296</th>\n",
              "      <td>297</td>\n",
              "      <td>0</td>\n",
              "      <td>297</td>\n",
              "      <td>0</td>\n",
              "    </tr>\n",
              "    <tr>\n",
              "      <th>297</th>\n",
              "      <td>298</td>\n",
              "      <td>0</td>\n",
              "      <td>298</td>\n",
              "      <td>0</td>\n",
              "    </tr>\n",
              "    <tr>\n",
              "      <th>298</th>\n",
              "      <td>299</td>\n",
              "      <td>0</td>\n",
              "      <td>299</td>\n",
              "      <td>0</td>\n",
              "    </tr>\n",
              "    <tr>\n",
              "      <th>299</th>\n",
              "      <td>300</td>\n",
              "      <td>0</td>\n",
              "      <td>300</td>\n",
              "      <td>0</td>\n",
              "    </tr>\n",
              "  </tbody>\n",
              "</table>\n",
              "<p>300 rows × 4 columns</p>\n",
              "</div>\n",
              "      <button class=\"colab-df-convert\" onclick=\"convertToInteractive('df-89bbc99e-3ad1-4852-9d7d-e646b750db40')\"\n",
              "              title=\"Convert this dataframe to an interactive table.\"\n",
              "              style=\"display:none;\">\n",
              "        \n",
              "  <svg xmlns=\"http://www.w3.org/2000/svg\" height=\"24px\"viewBox=\"0 0 24 24\"\n",
              "       width=\"24px\">\n",
              "    <path d=\"M0 0h24v24H0V0z\" fill=\"none\"/>\n",
              "    <path d=\"M18.56 5.44l.94 2.06.94-2.06 2.06-.94-2.06-.94-.94-2.06-.94 2.06-2.06.94zm-11 1L8.5 8.5l.94-2.06 2.06-.94-2.06-.94L8.5 2.5l-.94 2.06-2.06.94zm10 10l.94 2.06.94-2.06 2.06-.94-2.06-.94-.94-2.06-.94 2.06-2.06.94z\"/><path d=\"M17.41 7.96l-1.37-1.37c-.4-.4-.92-.59-1.43-.59-.52 0-1.04.2-1.43.59L10.3 9.45l-7.72 7.72c-.78.78-.78 2.05 0 2.83L4 21.41c.39.39.9.59 1.41.59.51 0 1.02-.2 1.41-.59l7.78-7.78 2.81-2.81c.8-.78.8-2.07 0-2.86zM5.41 20L4 18.59l7.72-7.72 1.47 1.35L5.41 20z\"/>\n",
              "  </svg>\n",
              "      </button>\n",
              "      \n",
              "  <style>\n",
              "    .colab-df-container {\n",
              "      display:flex;\n",
              "      flex-wrap:wrap;\n",
              "      gap: 12px;\n",
              "    }\n",
              "\n",
              "    .colab-df-convert {\n",
              "      background-color: #E8F0FE;\n",
              "      border: none;\n",
              "      border-radius: 50%;\n",
              "      cursor: pointer;\n",
              "      display: none;\n",
              "      fill: #1967D2;\n",
              "      height: 32px;\n",
              "      padding: 0 0 0 0;\n",
              "      width: 32px;\n",
              "    }\n",
              "\n",
              "    .colab-df-convert:hover {\n",
              "      background-color: #E2EBFA;\n",
              "      box-shadow: 0px 1px 2px rgba(60, 64, 67, 0.3), 0px 1px 3px 1px rgba(60, 64, 67, 0.15);\n",
              "      fill: #174EA6;\n",
              "    }\n",
              "\n",
              "    [theme=dark] .colab-df-convert {\n",
              "      background-color: #3B4455;\n",
              "      fill: #D2E3FC;\n",
              "    }\n",
              "\n",
              "    [theme=dark] .colab-df-convert:hover {\n",
              "      background-color: #434B5C;\n",
              "      box-shadow: 0px 1px 3px 1px rgba(0, 0, 0, 0.15);\n",
              "      filter: drop-shadow(0px 1px 2px rgba(0, 0, 0, 0.3));\n",
              "      fill: #FFFFFF;\n",
              "    }\n",
              "  </style>\n",
              "\n",
              "      <script>\n",
              "        const buttonEl =\n",
              "          document.querySelector('#df-89bbc99e-3ad1-4852-9d7d-e646b750db40 button.colab-df-convert');\n",
              "        buttonEl.style.display =\n",
              "          google.colab.kernel.accessAllowed ? 'block' : 'none';\n",
              "\n",
              "        async function convertToInteractive(key) {\n",
              "          const element = document.querySelector('#df-89bbc99e-3ad1-4852-9d7d-e646b750db40');\n",
              "          const dataTable =\n",
              "            await google.colab.kernel.invokeFunction('convertToInteractive',\n",
              "                                                     [key], {});\n",
              "          if (!dataTable) return;\n",
              "\n",
              "          const docLinkHtml = 'Like what you see? Visit the ' +\n",
              "            '<a target=\"_blank\" href=https://colab.research.google.com/notebooks/data_table.ipynb>data table notebook</a>'\n",
              "            + ' to learn more about interactive tables.';\n",
              "          element.innerHTML = '';\n",
              "          dataTable['output_type'] = 'display_data';\n",
              "          await google.colab.output.renderOutput(dataTable, element);\n",
              "          const docLink = document.createElement('div');\n",
              "          docLink.innerHTML = docLinkHtml;\n",
              "          element.appendChild(docLink);\n",
              "        }\n",
              "      </script>\n",
              "    </div>\n",
              "  </div>\n",
              "  "
            ]
          },
          "metadata": {},
          "execution_count": 386
        }
      ]
    },
    {
      "cell_type": "markdown",
      "source": [
        "Reference reading:\n",
        "1. https://machinelearningmastery.com/xgboost-for-imbalanced-classification/"
      ],
      "metadata": {
        "id": "tWJ9p6CSfxAH"
      }
    }
  ]
}